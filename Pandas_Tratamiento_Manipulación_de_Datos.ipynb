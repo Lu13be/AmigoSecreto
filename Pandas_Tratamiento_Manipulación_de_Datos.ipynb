{
  "nbformat": 4,
  "nbformat_minor": 0,
  "metadata": {
    "colab": {
      "provenance": [],
      "mount_file_id": "14hXL2d-0e42XpfsFCg3bpMTtyp_PR5j6",
      "authorship_tag": "ABX9TyMxoYBrRWQ+ujXggy/gBQKR",
      "include_colab_link": true
    },
    "kernelspec": {
      "name": "python3",
      "display_name": "Python 3"
    },
    "language_info": {
      "name": "python"
    }
  },
  "cells": [
    {
      "cell_type": "markdown",
      "metadata": {
        "id": "view-in-github",
        "colab_type": "text"
      },
      "source": [
        "<a href=\"https://colab.research.google.com/github/Lu13be/AmigoSecreto/blob/main/Pandas_Tratamiento_Manipulaci%C3%B3n_de_Datos.ipynb\" target=\"_parent\"><img src=\"https://colab.research.google.com/assets/colab-badge.svg\" alt=\"Open In Colab\"/></a>"
      ]
    },
    {
      "cell_type": "code",
      "execution_count": null,
      "metadata": {
        "id": "5oHxd_JUdAaF"
      },
      "outputs": [],
      "source": []
    },
    {
      "cell_type": "code",
      "source": [
        "import pandas as pd\n"
      ],
      "metadata": {
        "id": "dSMvTzwtgFfo"
      },
      "execution_count": null,
      "outputs": []
    },
    {
      "cell_type": "code",
      "source": [
        "datos = pd.read_json('/content/datos_hosting.json')\n",
        "datos.head()"
      ],
      "metadata": {
        "colab": {
          "base_uri": "https://localhost:8080/"
        },
        "id": "dCtOhc__ggO2",
        "outputId": "1f9cdbe5-73f2-4c94-f7e3-db14dcf6d20d",
        "collapsed": true
      },
      "execution_count": null,
      "outputs": [
        {
          "output_type": "error",
          "ename": "FileNotFoundError",
          "evalue": "File /content/datos_hosting.json does not exist",
          "traceback": [
            "\u001b[0;31m---------------------------------------------------------------------------\u001b[0m",
            "\u001b[0;31mFileNotFoundError\u001b[0m                         Traceback (most recent call last)",
            "\u001b[0;32m<ipython-input-2-3783231863>\u001b[0m in \u001b[0;36m<cell line: 0>\u001b[0;34m()\u001b[0m\n\u001b[0;32m----> 1\u001b[0;31m \u001b[0mdatos\u001b[0m \u001b[0;34m=\u001b[0m \u001b[0mpd\u001b[0m\u001b[0;34m.\u001b[0m\u001b[0mread_json\u001b[0m\u001b[0;34m(\u001b[0m\u001b[0;34m'/content/datos_hosting.json'\u001b[0m\u001b[0;34m)\u001b[0m\u001b[0;34m\u001b[0m\u001b[0;34m\u001b[0m\u001b[0m\n\u001b[0m\u001b[1;32m      2\u001b[0m \u001b[0mdatos\u001b[0m\u001b[0;34m.\u001b[0m\u001b[0mhead\u001b[0m\u001b[0;34m(\u001b[0m\u001b[0;34m)\u001b[0m\u001b[0;34m\u001b[0m\u001b[0;34m\u001b[0m\u001b[0m\n",
            "\u001b[0;32m/usr/local/lib/python3.11/dist-packages/pandas/io/json/_json.py\u001b[0m in \u001b[0;36mread_json\u001b[0;34m(path_or_buf, orient, typ, dtype, convert_axes, convert_dates, keep_default_dates, precise_float, date_unit, encoding, encoding_errors, lines, chunksize, compression, nrows, storage_options, dtype_backend, engine)\u001b[0m\n\u001b[1;32m    789\u001b[0m         \u001b[0mconvert_axes\u001b[0m \u001b[0;34m=\u001b[0m \u001b[0;32mTrue\u001b[0m\u001b[0;34m\u001b[0m\u001b[0;34m\u001b[0m\u001b[0m\n\u001b[1;32m    790\u001b[0m \u001b[0;34m\u001b[0m\u001b[0m\n\u001b[0;32m--> 791\u001b[0;31m     json_reader = JsonReader(\n\u001b[0m\u001b[1;32m    792\u001b[0m         \u001b[0mpath_or_buf\u001b[0m\u001b[0;34m,\u001b[0m\u001b[0;34m\u001b[0m\u001b[0;34m\u001b[0m\u001b[0m\n\u001b[1;32m    793\u001b[0m         \u001b[0morient\u001b[0m\u001b[0;34m=\u001b[0m\u001b[0morient\u001b[0m\u001b[0;34m,\u001b[0m\u001b[0;34m\u001b[0m\u001b[0;34m\u001b[0m\u001b[0m\n",
            "\u001b[0;32m/usr/local/lib/python3.11/dist-packages/pandas/io/json/_json.py\u001b[0m in \u001b[0;36m__init__\u001b[0;34m(self, filepath_or_buffer, orient, typ, dtype, convert_axes, convert_dates, keep_default_dates, precise_float, date_unit, encoding, lines, chunksize, compression, nrows, storage_options, encoding_errors, dtype_backend, engine)\u001b[0m\n\u001b[1;32m    902\u001b[0m             \u001b[0mself\u001b[0m\u001b[0;34m.\u001b[0m\u001b[0mdata\u001b[0m \u001b[0;34m=\u001b[0m \u001b[0mfilepath_or_buffer\u001b[0m\u001b[0;34m\u001b[0m\u001b[0;34m\u001b[0m\u001b[0m\n\u001b[1;32m    903\u001b[0m         \u001b[0;32melif\u001b[0m \u001b[0mself\u001b[0m\u001b[0;34m.\u001b[0m\u001b[0mengine\u001b[0m \u001b[0;34m==\u001b[0m \u001b[0;34m\"ujson\"\u001b[0m\u001b[0;34m:\u001b[0m\u001b[0;34m\u001b[0m\u001b[0;34m\u001b[0m\u001b[0m\n\u001b[0;32m--> 904\u001b[0;31m             \u001b[0mdata\u001b[0m \u001b[0;34m=\u001b[0m \u001b[0mself\u001b[0m\u001b[0;34m.\u001b[0m\u001b[0m_get_data_from_filepath\u001b[0m\u001b[0;34m(\u001b[0m\u001b[0mfilepath_or_buffer\u001b[0m\u001b[0;34m)\u001b[0m\u001b[0;34m\u001b[0m\u001b[0;34m\u001b[0m\u001b[0m\n\u001b[0m\u001b[1;32m    905\u001b[0m             \u001b[0mself\u001b[0m\u001b[0;34m.\u001b[0m\u001b[0mdata\u001b[0m \u001b[0;34m=\u001b[0m \u001b[0mself\u001b[0m\u001b[0;34m.\u001b[0m\u001b[0m_preprocess_data\u001b[0m\u001b[0;34m(\u001b[0m\u001b[0mdata\u001b[0m\u001b[0;34m)\u001b[0m\u001b[0;34m\u001b[0m\u001b[0;34m\u001b[0m\u001b[0m\n\u001b[1;32m    906\u001b[0m \u001b[0;34m\u001b[0m\u001b[0m\n",
            "\u001b[0;32m/usr/local/lib/python3.11/dist-packages/pandas/io/json/_json.py\u001b[0m in \u001b[0;36m_get_data_from_filepath\u001b[0;34m(self, filepath_or_buffer)\u001b[0m\n\u001b[1;32m    958\u001b[0m             \u001b[0;32mand\u001b[0m \u001b[0;32mnot\u001b[0m \u001b[0mfile_exists\u001b[0m\u001b[0;34m(\u001b[0m\u001b[0mfilepath_or_buffer\u001b[0m\u001b[0;34m)\u001b[0m\u001b[0;34m\u001b[0m\u001b[0;34m\u001b[0m\u001b[0m\n\u001b[1;32m    959\u001b[0m         ):\n\u001b[0;32m--> 960\u001b[0;31m             \u001b[0;32mraise\u001b[0m \u001b[0mFileNotFoundError\u001b[0m\u001b[0;34m(\u001b[0m\u001b[0;34mf\"File {filepath_or_buffer} does not exist\"\u001b[0m\u001b[0;34m)\u001b[0m\u001b[0;34m\u001b[0m\u001b[0;34m\u001b[0m\u001b[0m\n\u001b[0m\u001b[1;32m    961\u001b[0m         \u001b[0;32melse\u001b[0m\u001b[0;34m:\u001b[0m\u001b[0;34m\u001b[0m\u001b[0;34m\u001b[0m\u001b[0m\n\u001b[1;32m    962\u001b[0m             warnings.warn(\n",
            "\u001b[0;31mFileNotFoundError\u001b[0m: File /content/datos_hosting.json does not exist"
          ]
        }
      ]
    },
    {
      "cell_type": "code",
      "source": [],
      "metadata": {
        "id": "MXd8GBXVbdzF"
      },
      "execution_count": null,
      "outputs": []
    },
    {
      "cell_type": "code",
      "source": [],
      "metadata": {
        "id": "pQ_MHY_ybfbk"
      },
      "execution_count": null,
      "outputs": []
    },
    {
      "cell_type": "code",
      "source": [
        "datos = pd.json_normalize(datos['info_inmuebles'])\n",
        "datos.head()"
      ],
      "metadata": {
        "id": "klBgtATymY5l"
      },
      "execution_count": null,
      "outputs": []
    },
    {
      "cell_type": "code",
      "source": [],
      "metadata": {
        "id": "iVvE089TnVEY"
      },
      "execution_count": null,
      "outputs": []
    },
    {
      "cell_type": "code",
      "source": [
        "datos.info()\n"
      ],
      "metadata": {
        "id": "BEcigP2-nXA0"
      },
      "execution_count": null,
      "outputs": []
    },
    {
      "cell_type": "markdown",
      "source": [
        "#**Proyecto Desafío 1: Ventas Online**\n"
      ],
      "metadata": {
        "id": "E4uIDjDdx-Hn"
      }
    },
    {
      "cell_type": "code",
      "source": [
        "import pandas as pd"
      ],
      "metadata": {
        "id": "yncHGVNjyHpt"
      },
      "execution_count": null,
      "outputs": []
    },
    {
      "cell_type": "code",
      "source": [],
      "metadata": {
        "id": "ywzBWqFcsasI"
      },
      "execution_count": null,
      "outputs": []
    },
    {
      "cell_type": "code",
      "source": [
        "datos = pd.read_json('/content/inmuebles_disponibles.json')"
      ],
      "metadata": {
        "id": "j-_zUNnXyYLi",
        "collapsed": true
      },
      "execution_count": null,
      "outputs": []
    },
    {
      "cell_type": "code",
      "source": [
        "datos = pd.json_normalize(datos['dados_vendas'])\n",
        "datos"
      ],
      "metadata": {
        "id": "9x9b-Z37z568"
      },
      "execution_count": null,
      "outputs": []
    },
    {
      "cell_type": "markdown",
      "source": [],
      "metadata": {
        "id": "7GSP_q4C0u2l"
      }
    },
    {
      "cell_type": "markdown",
      "source": [
        "#**Proyecto Desafío 2: Administración de Condominios**"
      ],
      "metadata": {
        "id": "6bPySVqS1C_u"
      }
    },
    {
      "cell_type": "code",
      "source": [
        "import pandas as pd"
      ],
      "metadata": {
        "id": "cDC31PTv1Kd2"
      },
      "execution_count": null,
      "outputs": []
    },
    {
      "cell_type": "code",
      "source": [
        "datos = pd.read_json('/content/dados_locacao_imoveis.json')"
      ],
      "metadata": {
        "id": "BIhB7lkM1SI1",
        "collapsed": true
      },
      "execution_count": null,
      "outputs": []
    },
    {
      "cell_type": "code",
      "source": [
        "datos =pd.json_normalize(datos['dados_locacao'])\n",
        "datos"
      ],
      "metadata": {
        "id": "1BuCNMJw1oHO"
      },
      "execution_count": null,
      "outputs": []
    },
    {
      "cell_type": "code",
      "source": [
        "datos = datos.explode(columnas[3:])\n",
        "datos"
      ],
      "metadata": {
        "id": "mJqPbbDYZ-Lm"
      },
      "execution_count": null,
      "outputs": []
    },
    {
      "cell_type": "code",
      "source": [
        "datos.reset_index(inplace = True, drop = True)\n",
        "datos.head()"
      ],
      "metadata": {
        "id": "uwOEU11ra83g"
      },
      "execution_count": null,
      "outputs": []
    },
    {
      "cell_type": "code",
      "source": [
        "datos.info()\n"
      ],
      "metadata": {
        "id": "0L8TMaGgbiiU"
      },
      "execution_count": null,
      "outputs": []
    },
    {
      "cell_type": "code",
      "source": [
        "import numpy as np"
      ],
      "metadata": {
        "collapsed": true,
        "id": "Z3THQxcmMpb_"
      },
      "execution_count": null,
      "outputs": []
    },
    {
      "cell_type": "code",
      "source": [
        "datos['max_hospedes'] = datos['max_hospedes'].astype(np.int64)"
      ],
      "metadata": {
        "collapsed": true,
        "id": "F0dMp-R3OLYq"
      },
      "execution_count": null,
      "outputs": []
    },
    {
      "cell_type": "code",
      "source": [
        "datos.info()"
      ],
      "metadata": {
        "collapsed": true,
        "id": "iKoaZB0VONlT"
      },
      "execution_count": null,
      "outputs": []
    },
    {
      "cell_type": "code",
      "source": [
        "col_numericas = ['cantidad_baños', 'cantidad_cuartos', 'cantidad_camas']"
      ],
      "metadata": {
        "id": "zt6BT3yGOS9_"
      },
      "execution_count": null,
      "outputs": []
    },
    {
      "cell_type": "code",
      "source": [
        "datos['col_numericas'] = datos['col_numericas'].astype(np.int64)"
      ],
      "metadata": {
        "collapsed": true,
        "id": "BSIIk1_JPClk"
      },
      "execution_count": null,
      "outputs": []
    },
    {
      "cell_type": "code",
      "source": [
        "datos['evaluacion_general'] = datos['evaluacion_general'].astype(np.float64)"
      ],
      "metadata": {
        "collapsed": true,
        "id": "p1trJDu0PWcR"
      },
      "execution_count": null,
      "outputs": []
    },
    {
      "cell_type": "code",
      "source": [
        "datos.info()"
      ],
      "metadata": {
        "collapsed": true,
        "id": "XBuh-mQxQDWK"
      },
      "execution_count": null,
      "outputs": []
    },
    {
      "cell_type": "code",
      "source": [
        "datos['precio'] = datos['precio'].apply(lambda x: x.replace('$','').replace',').strip())"
      ],
      "metadata": {
        "collapsed": true,
        "id": "zmbHmUCQV0hB"
      },
      "execution_count": null,
      "outputs": []
    },
    {
      "cell_type": "code",
      "source": [
        "datos['precio'] = datos['precio'].astype(np.float64)"
      ],
      "metadata": {
        "collapsed": true,
        "id": "DNiXe_llYQ0M"
      },
      "execution_count": null,
      "outputs": []
    },
    {
      "cell_type": "code",
      "source": [
        "datos.info()"
      ],
      "metadata": {
        "collapsed": true,
        "id": "Nu5ERFmLY6_V"
      },
      "execution_count": null,
      "outputs": []
    },
    {
      "cell_type": "code",
      "source": [
        "datos[['cuota_deposito','cuota_limpieza']] = datos[['cuota_deposito','cuota_limpieza']].applymap(lambda x: x.replace('$','').replace',').strip())"
      ],
      "metadata": {
        "collapsed": true,
        "id": "DLIJCd-Fnf7n"
      },
      "execution_count": null,
      "outputs": []
    },
    {
      "cell_type": "code",
      "source": [
        "datos[['cuota_deposito','cuota_limpieza']] = datos[['cuota_deposito','cuota_limpieza']].astype(np.float64)"
      ],
      "metadata": {
        "id": "GTnZqFpMpb0W"
      },
      "execution_count": null,
      "outputs": []
    },
    {
      "cell_type": "code",
      "source": [
        "datos.info()"
      ],
      "metadata": {
        "collapsed": true,
        "id": "hUCKWaabp9ni"
      },
      "execution_count": null,
      "outputs": []
    },
    {
      "cell_type": "markdown",
      "source": [
        "### Desafío  1: Ventas Online###"
      ],
      "metadata": {
        "id": "-S2UISICsAX2"
      }
    },
    {
      "cell_type": "markdown",
      "source": [],
      "metadata": {
        "id": "mqOasgYvxwEK"
      }
    },
    {
      "cell_type": "code",
      "source": [
        "columnas = list(datos.columns)\n",
        "columnas"
      ],
      "metadata": {
        "collapsed": true,
        "id": "jvKzodGOsRjs"
      },
      "execution_count": null,
      "outputs": []
    },
    {
      "cell_type": "code",
      "source": [
        "datos = datos.explode(columnas[1:])"
      ],
      "metadata": {
        "id": "03pdKwnMtBn4"
      },
      "execution_count": null,
      "outputs": []
    },
    {
      "cell_type": "code",
      "source": [
        "datos.reset_index(drop=True,inplace=True)\n",
        "datos"
      ],
      "metadata": {
        "id": "BUr0MgSRtOfD"
      },
      "execution_count": null,
      "outputs": []
    },
    {
      "cell_type": "code",
      "source": [
        "datos.info()"
      ],
      "metadata": {
        "collapsed": true,
        "id": "UGBRqPGyta3s"
      },
      "execution_count": null,
      "outputs": []
    },
    {
      "cell_type": "code",
      "source": [
        "datos['valor de compra']"
      ],
      "metadata": {
        "id": "bAfhZ8Jotd54"
      },
      "execution_count": null,
      "outputs": []
    },
    {
      "cell_type": "code",
      "source": [
        "import numpy as np"
      ],
      "metadata": {
        "id": "3442_7zjtkZF"
      },
      "execution_count": null,
      "outputs": []
    },
    {
      "cell_type": "code",
      "source": [
        "datos['Valor de compra'] = datos['Valor de compra']apply(lambda x: x.replace('R$ ','').replace(',','.').strip())"
      ],
      "metadata": {
        "id": "4e5SjUjxtsY6"
      },
      "execution_count": null,
      "outputs": []
    },
    {
      "cell_type": "code",
      "source": [
        "datos['Valor  de compra'] = datos['Valor de compra'].astype(np.float64)"
      ],
      "metadata": {
        "id": "wtLHuVtTusvt"
      },
      "execution_count": null,
      "outputs": []
    },
    {
      "cell_type": "markdown",
      "source": [
        "##Desafío 2: Administración de Condominios##"
      ],
      "metadata": {
        "id": "x1etmznzvLaj"
      }
    },
    {
      "cell_type": "code",
      "source": [
        "columnas = list(datos.columns)\n",
        "columnas"
      ],
      "metadata": {
        "collapsed": true,
        "id": "qsWIfwxVvVSk"
      },
      "execution_count": null,
      "outputs": []
    },
    {
      "cell_type": "code",
      "source": [
        "datos = datos.explode(columnas[1:])"
      ],
      "metadata": {
        "collapsed": true,
        "id": "UZt8tZ8EvbwW"
      },
      "execution_count": null,
      "outputs": []
    },
    {
      "cell_type": "code",
      "source": [
        "datos.reset_index(drop=True,inplace=True)\n",
        "datos"
      ],
      "metadata": {
        "collapsed": true,
        "id": "bikf96uOviHm"
      },
      "execution_count": null,
      "outputs": []
    },
    {
      "cell_type": "code",
      "source": [
        "datos.info()"
      ],
      "metadata": {
        "collapsed": true,
        "id": "WZ-iKxswvtoC"
      },
      "execution_count": null,
      "outputs": []
    },
    {
      "cell_type": "code",
      "source": [
        "datos]'valor_aluguel']"
      ],
      "metadata": {
        "id": "tcUIZsb6vxAy"
      },
      "execution_count": null,
      "outputs": []
    },
    {
      "cell_type": "code",
      "source": [
        "import numpy as np"
      ],
      "metadata": {
        "id": "wk2ynEuGv84Z"
      },
      "execution_count": null,
      "outputs": []
    },
    {
      "cell_type": "code",
      "source": [
        "datos['valor_alugue'] = datos['valor_alugue'].apply(lambda x: x.replace('$ ','').replace(' reais', '').replace(',','.').strip())"
      ],
      "metadata": {
        "collapsed": true,
        "id": "y1iFZdMywAvm"
      },
      "execution_count": null,
      "outputs": []
    },
    {
      "cell_type": "code",
      "source": [
        "datos['valor_aluguel'] = datos['valor_alugue'].astype(np.float64)"
      ],
      "metadata": {
        "collapsed": true,
        "id": "qaqEN1hIwt-0"
      },
      "execution_count": null,
      "outputs": []
    },
    {
      "cell_type": "code",
      "source": [
        "datos.info()"
      ],
      "metadata": {
        "id": "RSPEvgr_w8JW"
      },
      "execution_count": null,
      "outputs": []
    },
    {
      "cell_type": "markdown",
      "source": [
        "##**El Problema del Texto**##"
      ],
      "metadata": {
        "id": "OVc1zFke8UAa"
      }
    },
    {
      "cell_type": "code",
      "source": [
        "datos['descripcion_local'] = datos['descripcion_local'].str.lower()"
      ],
      "metadata": {
        "id": "E7nVG4qr8uLT"
      },
      "execution_count": null,
      "outputs": []
    },
    {
      "cell_type": "code",
      "source": [
        "datos.head()"
      ],
      "metadata": {
        "id": "NMD0hbJp9RVV"
      },
      "execution_count": null,
      "outputs": []
    },
    {
      "cell_type": "code",
      "source": [
        "datos['descripción_local'][3169]"
      ],
      "metadata": {
        "id": "LaUOaz4yfzpD"
      },
      "execution_count": null,
      "outputs": []
    },
    {
      "cell_type": "code",
      "source": [
        "datos['descripción_local'] = datos['descripción_local'].str.replace['^a-zA_Z0-9\\-\\']',' ',regex=True)"
      ],
      "metadata": {
        "collapsed": true,
        "id": "sHmHBNZXgDs3"
      },
      "execution_count": null,
      "outputs": []
    },
    {
      "cell_type": "code",
      "source": [
        "datos['descripción_local'] = datos['descripción_local'].str.replace(?<!\\w)-(?!\\w)',' ',regex=True)"
      ],
      "metadata": {
        "id": "Cv2wFjeIibNI"
      },
      "execution_count": null,
      "outputs": []
    },
    {
      "cell_type": "code",
      "source": [
        "datos['descripción_local'].head()"
      ],
      "metadata": {
        "id": "TRqab112jOIl"
      },
      "execution_count": null,
      "outputs": []
    },
    {
      "cell_type": "code",
      "source": [
        "datos['descripción_local'] = datos['descripción_local'].str.split()\n",
        "datos.head()"
      ],
      "metadata": {
        "id": "Ms67U29TAcie"
      },
      "execution_count": null,
      "outputs": []
    },
    {
      "cell_type": "code",
      "source": [
        "datos['comodades'] = datos['comodades'].str.replace('\\{|}|\\\"','', regex=True)"
      ],
      "metadata": {
        "id": "7eAKZsAcAwwQ"
      },
      "execution_count": null,
      "outputs": []
    },
    {
      "cell_type": "code",
      "source": [
        "datos.head()"
      ],
      "metadata": {
        "id": "CEa49PYUCbIP"
      },
      "execution_count": null,
      "outputs": []
    },
    {
      "cell_type": "code",
      "source": [
        "datos['comodades'] = datos['comodades'].str.split(',')\n",
        "datos.head()"
      ],
      "metadata": {
        "id": "dvY4u1N3C_HX"
      },
      "execution_count": null,
      "outputs": []
    },
    {
      "cell_type": "markdown",
      "source": [
        "###***Desafío: hazlo tú mismo***###"
      ],
      "metadata": {
        "id": "f7JwE0olGY4l"
      }
    },
    {
      "cell_type": "code",
      "source": [
        "datos['descripción_vecindad'] = datos['descripción_vecindad'].str.lower()"
      ],
      "metadata": {
        "id": "k7LzlQKjGmjd"
      },
      "execution_count": null,
      "outputs": []
    },
    {
      "cell_type": "code",
      "source": [
        "datos['descripción_vecindad'] = datos['descripción_vecindad'].str.replace('[^a-zA-Z0-9\\-\\']','',regex=True)"
      ],
      "metadata": {
        "id": "lVE4gfLYG9xL"
      },
      "execution_count": null,
      "outputs": []
    },
    {
      "cell_type": "code",
      "source": [
        "datos['descripción_vecindad'] = datos['descripción_vecindad'].str.replace('(?<!\\w)-(?!\\w)','',regex=True)"
      ],
      "metadata": {
        "id": "c-st7CVyHzIJ"
      },
      "execution_count": null,
      "outputs": []
    },
    {
      "cell_type": "code",
      "source": [
        "datos['descripción_vecindad'] = datos['descripción_vecindad'].str.split()\n",
        "datos.head()"
      ],
      "metadata": {
        "id": "qe-GOrhpIep1"
      },
      "execution_count": null,
      "outputs": []
    },
    {
      "cell_type": "markdown",
      "source": [
        "###***Proyecto Desafío 1: Ventas Online***###"
      ],
      "metadata": {
        "id": "2sI_Xf7AK6jy"
      }
    },
    {
      "cell_type": "code",
      "source": [
        "datos['Cliente'] = datos['Cliente'].str.lower()\n",
        "datos.head()"
      ],
      "metadata": {
        "id": "8doG7kcXLJOj"
      },
      "execution_count": null,
      "outputs": []
    },
    {
      "cell_type": "code",
      "source": [
        "datos['Cliente'].str.replace('[^a-z]','', regex=True)"
      ],
      "metadata": {
        "id": "f2K54Q8uLWCV"
      },
      "execution_count": null,
      "outputs": []
    },
    {
      "cell_type": "code",
      "source": [
        "datos['Cliente'] = datos['Cliente'].str.replace('[^a-z]', '', regex=True).str.strip()\n",
        "datos.head()"
      ],
      "metadata": {
        "id": "-ik99kWhLlj4"
      },
      "execution_count": null,
      "outputs": []
    },
    {
      "cell_type": "markdown",
      "source": [
        "##***Proyecto Desafío 2: Administración de Condominios***##"
      ],
      "metadata": {
        "id": "Vgb8-eHFKDdw"
      }
    },
    {
      "cell_type": "code",
      "source": [
        "datos['apartamento'].str.replace('\\(clocoAP\\)', '')"
      ],
      "metadata": {
        "id": "fQ8rDY3bKM7S"
      },
      "execution_count": null,
      "outputs": []
    },
    {
      "cell_type": "code",
      "source": [
        "datos['apartamento'] = datos['apartamento'].str.replace('\\(blocoAP\\)','')"
      ],
      "metadata": {
        "id": "bJTULhBhKY91"
      },
      "execution_count": null,
      "outputs": []
    },
    {
      "cell_type": "markdown",
      "source": [
        "#*4. Datos de Tiempo*#"
      ],
      "metadata": {
        "id": "FdDkPxn3V1cQ"
      }
    },
    {
      "cell_type": "code",
      "source": [
        "dt_data = pd.read_json('/content/inmuebles_disponibles.json')\n",
        "dt_data.head()"
      ],
      "metadata": {
        "id": "hFm4orwvUs-D"
      },
      "execution_count": null,
      "outputs": []
    },
    {
      "cell_type": "code",
      "source": [],
      "metadata": {
        "id": "-TOcaiNsVTq_"
      },
      "execution_count": null,
      "outputs": []
    },
    {
      "cell_type": "code",
      "source": [],
      "metadata": {
        "id": "dhIXizlc8Zj_"
      },
      "execution_count": null,
      "outputs": []
    },
    {
      "cell_type": "code",
      "source": [
        "dt_data.info()"
      ],
      "metadata": {
        "id": "ztYj26CPrbmy"
      },
      "execution_count": null,
      "outputs": []
    },
    {
      "cell_type": "code",
      "source": [
        "pd.to_datetime(dt_data['fecha'])"
      ],
      "metadata": {
        "id": "16RSf82JtGyh"
      },
      "execution_count": null,
      "outputs": []
    },
    {
      "cell_type": "code",
      "source": [
        "dt_data['fecha'] = pd.to_datetime(dt_data['fecha'])"
      ],
      "metadata": {
        "id": "9hM1cj-ctwwR"
      },
      "execution_count": null,
      "outputs": []
    },
    {
      "cell_type": "code",
      "source": [
        "dt_data.info()"
      ],
      "metadata": {
        "id": "ZiD6xQTAt5_6"
      },
      "execution_count": null,
      "outputs": []
    },
    {
      "cell_type": "code",
      "source": [
        "dt_data.head()"
      ],
      "metadata": {
        "id": "WLHPblmpx9wQ"
      },
      "execution_count": null,
      "outputs": []
    },
    {
      "cell_type": "code",
      "source": [
        "dt_data['fecha'].dt.strftime('%Y-%m')"
      ],
      "metadata": {
        "id": "C72QDJpczDji"
      },
      "execution_count": null,
      "outputs": []
    },
    {
      "cell_type": "code",
      "source": [
        "dt_data.groupby()"
      ],
      "metadata": {
        "id": "3E1GL4yi0tqC"
      },
      "execution_count": null,
      "outputs": []
    },
    {
      "cell_type": "code",
      "source": [
        "subset = dt_data.groupby(dt_data['fecha'].dt.strftime('%Y-%m'))['lugar_diponible'].sum()\n",
        "subset"
      ],
      "metadata": {
        "id": "kdO4I3Av1WpQ"
      },
      "execution_count": null,
      "outputs": []
    },
    {
      "cell_type": "markdown",
      "source": [
        "###***Desafío 06: hazlo tú mismo***###"
      ],
      "metadata": {
        "id": "TRQfjTBa26l5"
      }
    },
    {
      "cell_type": "code",
      "source": [
        "import numpy as np"
      ],
      "metadata": {
        "id": "F4kdyZ9L3E8o"
      },
      "execution_count": null,
      "outputs": []
    },
    {
      "cell_type": "code",
      "source": [
        "dt_data['precio'].fillna('0.0, inplace = True')"
      ],
      "metadata": {
        "id": "ucXh-cOM3NqL"
      },
      "execution_count": null,
      "outputs": []
    },
    {
      "cell_type": "code",
      "source": [
        "dt_data['precio'] = dt_data['precio'].apply(lambda x: x.replace('$', '').replace(',',''))"
      ],
      "metadata": {
        "id": "z_iRw9Rl3Wfb"
      },
      "execution_count": null,
      "outputs": []
    },
    {
      "cell_type": "code",
      "source": [
        "dt_data['precio'] = dt_data['precio'].astype(np.float64)\n",
        "dt_data"
      ],
      "metadata": {
        "id": "blqcvjGm31Ta"
      },
      "execution_count": null,
      "outputs": []
    },
    {
      "cell_type": "markdown",
      "source": [
        "###***Proyecto Desafío 1: Ventas Online***###"
      ],
      "metadata": {
        "id": "pprBJS3g8IIC"
      }
    },
    {
      "cell_type": "code",
      "source": [
        "dt_data = pd.read_json('/content/Projeto_desafio_1_vendas_online.ipynb')"
      ],
      "metadata": {
        "collapsed": true,
        "id": "fw9iyF-a8PuG"
      },
      "execution_count": null,
      "outputs": []
    },
    {
      "cell_type": "code",
      "source": [
        "datos['Data de venda'] = pd.to_datetime(datos[Data de venda], format= '%d/%m/%Y')\n",
        "datos.head()"
      ],
      "metadata": {
        "id": "GTO956lT8pv9"
      },
      "execution_count": null,
      "outputs": []
    },
    {
      "cell_type": "code",
      "source": [
        "datos.info()"
      ],
      "metadata": {
        "id": "Vuq6rM2_9BmQ"
      },
      "execution_count": null,
      "outputs": []
    },
    {
      "cell_type": "code",
      "source": [
        "total_compras = datos.groupby(['Cliente'])['Valor da compra'].sum()\n",
        "total_compras"
      ],
      "metadata": {
        "id": "lDiNRwos9Ovz"
      },
      "execution_count": null,
      "outputs": []
    },
    {
      "cell_type": "markdown",
      "source": [
        "###***Proyecto Desafío 2: Administración de Condominios***###"
      ],
      "metadata": {
        "id": "9CqUDiZZ9lok"
      }
    },
    {
      "cell_type": "code",
      "source": [
        "dt_data = pd.read_json('/content/Projeto_desafio_2_administração_de_condomínios.ipynb')"
      ],
      "metadata": {
        "id": "DGwb51fg9s_J"
      },
      "execution_count": null,
      "outputs": []
    },
    {
      "cell_type": "code",
      "source": [
        "datos['datas_combinadas_pegamento'] = pd.to_datetime(datos['datas_combinadas_pegamento'], format='%d/%m/%Y')"
      ],
      "metadata": {
        "id": "D5S0Jygg93hJ"
      },
      "execution_count": null,
      "outputs": []
    },
    {
      "cell_type": "code",
      "source": [
        "datos['data_de_pegamento'] = pd.to_datetime(datos['data_de_pegamento'], format='%d/%m/%Y')"
      ],
      "metadata": {
        "id": "hCdUFXK--U_V"
      },
      "execution_count": null,
      "outputs": []
    },
    {
      "cell_type": "code",
      "source": [
        "media_atraso =datos.groupby(['apartamento'])['atraso'].mean()\n",
        "media_atraso"
      ],
      "metadata": {
        "id": "zh0R6I8T--2H"
      },
      "execution_count": null,
      "outputs": []
    }
  ]
}