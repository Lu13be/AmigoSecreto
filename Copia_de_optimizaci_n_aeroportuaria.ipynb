{
  "nbformat": 4,
  "nbformat_minor": 0,
  "metadata": {
    "colab": {
      "provenance": [],
      "include_colab_link": true
    },
    "kernelspec": {
      "name": "python3",
      "display_name": "Python 3"
    },
    "language_info": {
      "name": "python"
    }
  },
  "cells": [
    {
      "cell_type": "markdown",
      "metadata": {
        "id": "view-in-github",
        "colab_type": "text"
      },
      "source": [
        "<a href=\"https://colab.research.google.com/github/Lu13be/AmigoSecreto/blob/main/Copia_de_optimizaci_n_aeroportuaria.ipynb\" target=\"_parent\"><img src=\"https://colab.research.google.com/assets/colab-badge.svg\" alt=\"Open In Colab\"/></a>"
      ]
    },
    {
      "cell_type": "markdown",
      "source": [
        "#**CLASE 1**"
      ],
      "metadata": {
        "id": "YZv225NmmAvJ"
      }
    },
    {
      "cell_type": "code",
      "source": [
        "import pandas as pd\n",
        "\n",
        "datos =  pd.read_csv('/content/flights.csv')\n",
        "datos.shape"
      ],
      "metadata": {
        "colab": {
          "base_uri": "https://localhost:8080/",
          "height": 339
        },
        "id": "rjnnYQ_V-4ZM",
        "outputId": "da383e54-f7d2-41d2-ef94-42c1919c4f6c"
      },
      "execution_count": null,
      "outputs": [
        {
          "output_type": "error",
          "ename": "FileNotFoundError",
          "evalue": "[Errno 2] No such file or directory: '/content/flights.csv'",
          "traceback": [
            "\u001b[0;31m---------------------------------------------------------------------------\u001b[0m",
            "\u001b[0;31mFileNotFoundError\u001b[0m                         Traceback (most recent call last)",
            "\u001b[0;32m/tmp/ipython-input-763714110.py\u001b[0m in \u001b[0;36m<cell line: 0>\u001b[0;34m()\u001b[0m\n\u001b[1;32m      1\u001b[0m \u001b[0;32mimport\u001b[0m \u001b[0mpandas\u001b[0m \u001b[0;32mas\u001b[0m \u001b[0mpd\u001b[0m\u001b[0;34m\u001b[0m\u001b[0;34m\u001b[0m\u001b[0m\n\u001b[1;32m      2\u001b[0m \u001b[0;34m\u001b[0m\u001b[0m\n\u001b[0;32m----> 3\u001b[0;31m \u001b[0mdatos\u001b[0m \u001b[0;34m=\u001b[0m  \u001b[0mpd\u001b[0m\u001b[0;34m.\u001b[0m\u001b[0mread_csv\u001b[0m\u001b[0;34m(\u001b[0m\u001b[0;34m'/content/flights.csv'\u001b[0m\u001b[0;34m)\u001b[0m\u001b[0;34m\u001b[0m\u001b[0;34m\u001b[0m\u001b[0m\n\u001b[0m\u001b[1;32m      4\u001b[0m \u001b[0mdatos\u001b[0m\u001b[0;34m.\u001b[0m\u001b[0mshape\u001b[0m\u001b[0;34m\u001b[0m\u001b[0;34m\u001b[0m\u001b[0m\n",
            "\u001b[0;32m/usr/local/lib/python3.11/dist-packages/pandas/io/parsers/readers.py\u001b[0m in \u001b[0;36mread_csv\u001b[0;34m(filepath_or_buffer, sep, delimiter, header, names, index_col, usecols, dtype, engine, converters, true_values, false_values, skipinitialspace, skiprows, skipfooter, nrows, na_values, keep_default_na, na_filter, verbose, skip_blank_lines, parse_dates, infer_datetime_format, keep_date_col, date_parser, date_format, dayfirst, cache_dates, iterator, chunksize, compression, thousands, decimal, lineterminator, quotechar, quoting, doublequote, escapechar, comment, encoding, encoding_errors, dialect, on_bad_lines, delim_whitespace, low_memory, memory_map, float_precision, storage_options, dtype_backend)\u001b[0m\n\u001b[1;32m   1024\u001b[0m     \u001b[0mkwds\u001b[0m\u001b[0;34m.\u001b[0m\u001b[0mupdate\u001b[0m\u001b[0;34m(\u001b[0m\u001b[0mkwds_defaults\u001b[0m\u001b[0;34m)\u001b[0m\u001b[0;34m\u001b[0m\u001b[0;34m\u001b[0m\u001b[0m\n\u001b[1;32m   1025\u001b[0m \u001b[0;34m\u001b[0m\u001b[0m\n\u001b[0;32m-> 1026\u001b[0;31m     \u001b[0;32mreturn\u001b[0m \u001b[0m_read\u001b[0m\u001b[0;34m(\u001b[0m\u001b[0mfilepath_or_buffer\u001b[0m\u001b[0;34m,\u001b[0m \u001b[0mkwds\u001b[0m\u001b[0;34m)\u001b[0m\u001b[0;34m\u001b[0m\u001b[0;34m\u001b[0m\u001b[0m\n\u001b[0m\u001b[1;32m   1027\u001b[0m \u001b[0;34m\u001b[0m\u001b[0m\n\u001b[1;32m   1028\u001b[0m \u001b[0;34m\u001b[0m\u001b[0m\n",
            "\u001b[0;32m/usr/local/lib/python3.11/dist-packages/pandas/io/parsers/readers.py\u001b[0m in \u001b[0;36m_read\u001b[0;34m(filepath_or_buffer, kwds)\u001b[0m\n\u001b[1;32m    618\u001b[0m \u001b[0;34m\u001b[0m\u001b[0m\n\u001b[1;32m    619\u001b[0m     \u001b[0;31m# Create the parser.\u001b[0m\u001b[0;34m\u001b[0m\u001b[0;34m\u001b[0m\u001b[0m\n\u001b[0;32m--> 620\u001b[0;31m     \u001b[0mparser\u001b[0m \u001b[0;34m=\u001b[0m \u001b[0mTextFileReader\u001b[0m\u001b[0;34m(\u001b[0m\u001b[0mfilepath_or_buffer\u001b[0m\u001b[0;34m,\u001b[0m \u001b[0;34m**\u001b[0m\u001b[0mkwds\u001b[0m\u001b[0;34m)\u001b[0m\u001b[0;34m\u001b[0m\u001b[0;34m\u001b[0m\u001b[0m\n\u001b[0m\u001b[1;32m    621\u001b[0m \u001b[0;34m\u001b[0m\u001b[0m\n\u001b[1;32m    622\u001b[0m     \u001b[0;32mif\u001b[0m \u001b[0mchunksize\u001b[0m \u001b[0;32mor\u001b[0m \u001b[0miterator\u001b[0m\u001b[0;34m:\u001b[0m\u001b[0;34m\u001b[0m\u001b[0;34m\u001b[0m\u001b[0m\n",
            "\u001b[0;32m/usr/local/lib/python3.11/dist-packages/pandas/io/parsers/readers.py\u001b[0m in \u001b[0;36m__init__\u001b[0;34m(self, f, engine, **kwds)\u001b[0m\n\u001b[1;32m   1618\u001b[0m \u001b[0;34m\u001b[0m\u001b[0m\n\u001b[1;32m   1619\u001b[0m         \u001b[0mself\u001b[0m\u001b[0;34m.\u001b[0m\u001b[0mhandles\u001b[0m\u001b[0;34m:\u001b[0m \u001b[0mIOHandles\u001b[0m \u001b[0;34m|\u001b[0m \u001b[0;32mNone\u001b[0m \u001b[0;34m=\u001b[0m \u001b[0;32mNone\u001b[0m\u001b[0;34m\u001b[0m\u001b[0;34m\u001b[0m\u001b[0m\n\u001b[0;32m-> 1620\u001b[0;31m         \u001b[0mself\u001b[0m\u001b[0;34m.\u001b[0m\u001b[0m_engine\u001b[0m \u001b[0;34m=\u001b[0m \u001b[0mself\u001b[0m\u001b[0;34m.\u001b[0m\u001b[0m_make_engine\u001b[0m\u001b[0;34m(\u001b[0m\u001b[0mf\u001b[0m\u001b[0;34m,\u001b[0m \u001b[0mself\u001b[0m\u001b[0;34m.\u001b[0m\u001b[0mengine\u001b[0m\u001b[0;34m)\u001b[0m\u001b[0;34m\u001b[0m\u001b[0;34m\u001b[0m\u001b[0m\n\u001b[0m\u001b[1;32m   1621\u001b[0m \u001b[0;34m\u001b[0m\u001b[0m\n\u001b[1;32m   1622\u001b[0m     \u001b[0;32mdef\u001b[0m \u001b[0mclose\u001b[0m\u001b[0;34m(\u001b[0m\u001b[0mself\u001b[0m\u001b[0;34m)\u001b[0m \u001b[0;34m->\u001b[0m \u001b[0;32mNone\u001b[0m\u001b[0;34m:\u001b[0m\u001b[0;34m\u001b[0m\u001b[0;34m\u001b[0m\u001b[0m\n",
            "\u001b[0;32m/usr/local/lib/python3.11/dist-packages/pandas/io/parsers/readers.py\u001b[0m in \u001b[0;36m_make_engine\u001b[0;34m(self, f, engine)\u001b[0m\n\u001b[1;32m   1878\u001b[0m                 \u001b[0;32mif\u001b[0m \u001b[0;34m\"b\"\u001b[0m \u001b[0;32mnot\u001b[0m \u001b[0;32min\u001b[0m \u001b[0mmode\u001b[0m\u001b[0;34m:\u001b[0m\u001b[0;34m\u001b[0m\u001b[0;34m\u001b[0m\u001b[0m\n\u001b[1;32m   1879\u001b[0m                     \u001b[0mmode\u001b[0m \u001b[0;34m+=\u001b[0m \u001b[0;34m\"b\"\u001b[0m\u001b[0;34m\u001b[0m\u001b[0;34m\u001b[0m\u001b[0m\n\u001b[0;32m-> 1880\u001b[0;31m             self.handles = get_handle(\n\u001b[0m\u001b[1;32m   1881\u001b[0m                 \u001b[0mf\u001b[0m\u001b[0;34m,\u001b[0m\u001b[0;34m\u001b[0m\u001b[0;34m\u001b[0m\u001b[0m\n\u001b[1;32m   1882\u001b[0m                 \u001b[0mmode\u001b[0m\u001b[0;34m,\u001b[0m\u001b[0;34m\u001b[0m\u001b[0;34m\u001b[0m\u001b[0m\n",
            "\u001b[0;32m/usr/local/lib/python3.11/dist-packages/pandas/io/common.py\u001b[0m in \u001b[0;36mget_handle\u001b[0;34m(path_or_buf, mode, encoding, compression, memory_map, is_text, errors, storage_options)\u001b[0m\n\u001b[1;32m    871\u001b[0m         \u001b[0;32mif\u001b[0m \u001b[0mioargs\u001b[0m\u001b[0;34m.\u001b[0m\u001b[0mencoding\u001b[0m \u001b[0;32mand\u001b[0m \u001b[0;34m\"b\"\u001b[0m \u001b[0;32mnot\u001b[0m \u001b[0;32min\u001b[0m \u001b[0mioargs\u001b[0m\u001b[0;34m.\u001b[0m\u001b[0mmode\u001b[0m\u001b[0;34m:\u001b[0m\u001b[0;34m\u001b[0m\u001b[0;34m\u001b[0m\u001b[0m\n\u001b[1;32m    872\u001b[0m             \u001b[0;31m# Encoding\u001b[0m\u001b[0;34m\u001b[0m\u001b[0;34m\u001b[0m\u001b[0m\n\u001b[0;32m--> 873\u001b[0;31m             handle = open(\n\u001b[0m\u001b[1;32m    874\u001b[0m                 \u001b[0mhandle\u001b[0m\u001b[0;34m,\u001b[0m\u001b[0;34m\u001b[0m\u001b[0;34m\u001b[0m\u001b[0m\n\u001b[1;32m    875\u001b[0m                 \u001b[0mioargs\u001b[0m\u001b[0;34m.\u001b[0m\u001b[0mmode\u001b[0m\u001b[0;34m,\u001b[0m\u001b[0;34m\u001b[0m\u001b[0;34m\u001b[0m\u001b[0m\n",
            "\u001b[0;31mFileNotFoundError\u001b[0m: [Errno 2] No such file or directory: '/content/flights.csv'"
          ]
        }
      ]
    },
    {
      "cell_type": "code",
      "source": [
        "datos.head()"
      ],
      "metadata": {
        "id": "FZUo_3hFS18u"
      },
      "execution_count": null,
      "outputs": []
    },
    {
      "cell_type": "code",
      "source": [
        "datos.info()"
      ],
      "metadata": {
        "id": "Pwpnde75TXW5"
      },
      "execution_count": null,
      "outputs": []
    },
    {
      "cell_type": "code",
      "source": [
        "datos.describe()"
      ],
      "metadata": {
        "id": "KjH81YviTjLF"
      },
      "execution_count": null,
      "outputs": []
    },
    {
      "cell_type": "code",
      "source": [
        "datos.describe(include='O')"
      ],
      "metadata": {
        "id": "KlvGv62nUBfF"
      },
      "execution_count": null,
      "outputs": []
    },
    {
      "cell_type": "code",
      "source": [
        "import seaborn as sns\n",
        "import matplotlib.pyplot as plt\n",
        "\n",
        "avg_delay = datos.groupby('airline')['delay'].mean().reset_index()\n",
        "sns.barplot(x='airline',y='delay',data=avg_delay)\n",
        "plt.title('Compañías aéreas vs atraso promedio')\n",
        "plt.xlabel('Compañía aérea')\n",
        "plt.ylabel('Atraso promedio en minutos')\n",
        "plt.show()\n",
        "\n",
        "sns.countplot(data=datos, x='airline')\n",
        "plt.title('Número de vuelos por Compañía aérea')\n",
        "plt.xlabel('Compañía aérea')\n",
        "plt.ylabel('Número de vuelos')\n",
        "plt.show()"
      ],
      "metadata": {
        "id": "rboR3kpyXGoN",
        "colab": {
          "base_uri": "https://localhost:8080/",
          "height": 211
        },
        "outputId": "0f0152d7-7815-493f-b0eb-f426f39b5b15"
      },
      "execution_count": null,
      "outputs": [
        {
          "output_type": "error",
          "ename": "NameError",
          "evalue": "name 'datos' is not defined",
          "traceback": [
            "\u001b[0;31m---------------------------------------------------------------------------\u001b[0m",
            "\u001b[0;31mNameError\u001b[0m                                 Traceback (most recent call last)",
            "\u001b[0;32m/tmp/ipython-input-3634043690.py\u001b[0m in \u001b[0;36m<cell line: 0>\u001b[0;34m()\u001b[0m\n\u001b[1;32m      2\u001b[0m \u001b[0;32mimport\u001b[0m \u001b[0mmatplotlib\u001b[0m\u001b[0;34m.\u001b[0m\u001b[0mpyplot\u001b[0m \u001b[0;32mas\u001b[0m \u001b[0mplt\u001b[0m\u001b[0;34m\u001b[0m\u001b[0;34m\u001b[0m\u001b[0m\n\u001b[1;32m      3\u001b[0m \u001b[0;34m\u001b[0m\u001b[0m\n\u001b[0;32m----> 4\u001b[0;31m \u001b[0mavg_delay\u001b[0m \u001b[0;34m=\u001b[0m \u001b[0mdatos\u001b[0m\u001b[0;34m.\u001b[0m\u001b[0mgroupby\u001b[0m\u001b[0;34m(\u001b[0m\u001b[0;34m'airline'\u001b[0m\u001b[0;34m)\u001b[0m\u001b[0;34m[\u001b[0m\u001b[0;34m'delay'\u001b[0m\u001b[0;34m]\u001b[0m\u001b[0;34m.\u001b[0m\u001b[0mmean\u001b[0m\u001b[0;34m(\u001b[0m\u001b[0;34m)\u001b[0m\u001b[0;34m.\u001b[0m\u001b[0mreset_index\u001b[0m\u001b[0;34m(\u001b[0m\u001b[0;34m)\u001b[0m\u001b[0;34m\u001b[0m\u001b[0;34m\u001b[0m\u001b[0m\n\u001b[0m\u001b[1;32m      5\u001b[0m \u001b[0msns\u001b[0m\u001b[0;34m.\u001b[0m\u001b[0mbarplot\u001b[0m\u001b[0;34m(\u001b[0m\u001b[0mx\u001b[0m\u001b[0;34m=\u001b[0m\u001b[0;34m'airline'\u001b[0m\u001b[0;34m,\u001b[0m\u001b[0my\u001b[0m\u001b[0;34m=\u001b[0m\u001b[0;34m'delay'\u001b[0m\u001b[0;34m,\u001b[0m\u001b[0mdata\u001b[0m\u001b[0;34m=\u001b[0m\u001b[0mavg_delay\u001b[0m\u001b[0;34m)\u001b[0m\u001b[0;34m\u001b[0m\u001b[0;34m\u001b[0m\u001b[0m\n\u001b[1;32m      6\u001b[0m \u001b[0mplt\u001b[0m\u001b[0;34m.\u001b[0m\u001b[0mtitle\u001b[0m\u001b[0;34m(\u001b[0m\u001b[0;34m'Compañías aéreas vs atraso promedio'\u001b[0m\u001b[0;34m)\u001b[0m\u001b[0;34m\u001b[0m\u001b[0;34m\u001b[0m\u001b[0m\n",
            "\u001b[0;31mNameError\u001b[0m: name 'datos' is not defined"
          ]
        }
      ]
    },
    {
      "cell_type": "code",
      "source": [
        "avg_delay = datos.groupby('schengen')['delay'].mean().reset_index()\n",
        "sns.barplot(x='schengen',y='delay',data=avg_delay)\n",
        "plt.title('Tipo de vuelo vs atraso promedio')\n",
        "plt.xlabel('Tipo de vuelo')\n",
        "plt.ylabel('Atraso promedio en minutos')\n",
        "plt.show()\n",
        "\n",
        "sns.countplot(data=datos, x='schengen')\n",
        "plt.title('Número de vuelos por Tipo')\n",
        "plt.xlabel('Tipo de Vuelo')\n",
        "plt.ylabel('Número de vuelos')\n",
        "plt.show()"
      ],
      "metadata": {
        "id": "OWuN3zviYFQ2"
      },
      "execution_count": null,
      "outputs": []
    },
    {
      "cell_type": "code",
      "source": [
        "avg_delay = datos.groupby('is_holiday')['delay'].mean().reset_index()\n",
        "sns.barplot(x='is_holiday',y='delay',data=avg_delay)\n",
        "plt.title('Días feriados vs atraso promedio')\n",
        "plt.xlabel('Días feriados')\n",
        "plt.ylabel('Atraso promedio en minutos')\n",
        "plt.show()"
      ],
      "metadata": {
        "id": "hC7i9f3qYmLK"
      },
      "execution_count": null,
      "outputs": []
    },
    {
      "cell_type": "code",
      "source": [
        "datos['aircraft_type'].value_counts().index"
      ],
      "metadata": {
        "id": "CksmOQgTZbh0"
      },
      "execution_count": null,
      "outputs": []
    },
    {
      "cell_type": "code",
      "source": [
        "order = datos['aircraft_type'].value_counts().index\n",
        "sns.countplot(data=datos, x='aircraft_type',order=order)\n",
        "plt.title('Número de vuelos por Tipo de aeronave')\n",
        "plt.xticks(rotation=70)\n",
        "plt.xlabel('Tipo de Aeronave')\n",
        "plt.ylabel('Número de vuelos')\n",
        "plt.show()"
      ],
      "metadata": {
        "id": "BQkBreraY82i"
      },
      "execution_count": null,
      "outputs": []
    },
    {
      "cell_type": "code",
      "source": [
        "sns.histplot(data=datos,x='arrival_time',kde=True)"
      ],
      "metadata": {
        "id": "RJB8IXLXfgU8"
      },
      "execution_count": null,
      "outputs": []
    },
    {
      "cell_type": "markdown",
      "source": [
        "https://en.wikipedia.org/wiki/Freedman%E2%80%93Diaconis_rule"
      ],
      "metadata": {
        "id": "qf8wILq2ignY"
      }
    },
    {
      "cell_type": "code",
      "source": [
        "sns.histplot(data=datos,x='arrival_time',kde=True,bins=10)"
      ],
      "metadata": {
        "id": "p8xrkWbNi-no"
      },
      "execution_count": null,
      "outputs": []
    },
    {
      "cell_type": "code",
      "source": [
        "import numpy as np\n",
        "\n",
        "def ancho_bin(df,columna):\n",
        "  q75,q25 = np.percentile(df[columna],[75,25])\n",
        "  iqr = q75-q25\n",
        "  ancho = 2 * iqr * np.power(len(df[columna]), -1/3)\n",
        "  return ancho"
      ],
      "metadata": {
        "id": "cq_HgcniiQOY"
      },
      "execution_count": null,
      "outputs": []
    },
    {
      "cell_type": "code",
      "source": [
        "binwidth = ancho_bin(datos,'arrival_time')\n",
        "sns.histplot(data=datos,x='arrival_time',kde=True,binwidth=binwidth)"
      ],
      "metadata": {
        "id": "yXHprN-PiycY"
      },
      "execution_count": null,
      "outputs": []
    },
    {
      "cell_type": "code",
      "source": [
        "binwidth = ancho_bin(datos,'departure_time')\n",
        "sns.histplot(data=datos,x='departure_time',kde=True,binwidth=binwidth)"
      ],
      "metadata": {
        "id": "qAr6Q-wSjGEH"
      },
      "execution_count": null,
      "outputs": []
    },
    {
      "cell_type": "code",
      "source": [
        "atraso_promedio = datos['delay'].mean()\n",
        "atraso_mediana = datos['delay'].median()\n",
        "\n",
        "fig, ax = plt.subplots(1,2,figsize=(9,4))\n",
        "\n",
        "sns.boxplot(data=datos, y='delay',ax=ax[0])\n",
        "ax[0].set_title('Boxplot')\n",
        "ax[0].axhline(y=atraso_promedio, color='r', linestyle='--', label='Promedio')\n",
        "ax[0].legend()\n",
        "\n",
        "binwidth = ancho_bin(datos, 'delay')\n",
        "sns.histplot(data=datos, x='delay', ax=ax[1], kde=True, binwidth=binwidth)\n",
        "plt.ylabel('Número de vuelos')\n",
        "plt.grid(False)\n",
        "ax[1].set_title('Histograma')\n",
        "ax[1].axvline(x=atraso_promedio, color='r', linestyle='--', label='Promedio')\n",
        "ax[1].axvline(x=atraso_mediana, color='y', linestyle='--', label='Mediana')\n",
        "ax[1].legend()\n",
        "\n",
        "plt.tight_layout()\n",
        "\n",
        "plt.show()"
      ],
      "metadata": {
        "id": "J10pTjTqjRJV"
      },
      "execution_count": null,
      "outputs": []
    },
    {
      "cell_type": "markdown",
      "source": [
        "#**CLASE 2**"
      ],
      "metadata": {
        "id": "6GyWSWtTmG8i"
      }
    },
    {
      "cell_type": "code",
      "source": [
        "datos.columns"
      ],
      "metadata": {
        "id": "1rwuavlgqHuy"
      },
      "execution_count": null,
      "outputs": []
    },
    {
      "cell_type": "code",
      "source": [
        "datos['date'] = datos['year'].astype(str) +'-'+(datos['day']+1).astype(str)\n",
        "datos['date'] = pd.to_datetime(datos['date'],format='%Y-%j')\n",
        "datos.tail(2)"
      ],
      "metadata": {
        "id": "6q3s6ZdCqelY"
      },
      "execution_count": null,
      "outputs": []
    },
    {
      "cell_type": "code",
      "source": [
        "datos['is_weekend'] = datos['date'].dt.weekday.isin([5,6])\n",
        "datos['day_name'] = datos['date'].dt.day_name()\n",
        "datos.sample(5)"
      ],
      "metadata": {
        "id": "IkZs4DA0q_D9"
      },
      "execution_count": null,
      "outputs": []
    },
    {
      "cell_type": "code",
      "source": [
        "datos.info()"
      ],
      "metadata": {
        "id": "ZiQsZ_k7r6cB"
      },
      "execution_count": null,
      "outputs": []
    },
    {
      "cell_type": "code",
      "source": [
        "import warnings\n",
        "\n",
        "warnings.filterwarnings('ignore')"
      ],
      "metadata": {
        "id": "GtJ_iw4EtmYH"
      },
      "execution_count": null,
      "outputs": []
    },
    {
      "cell_type": "code",
      "source": [
        "datos['schengen'] = datos['schengen'].replace({'non-schengen':0,'schengen':1})\n",
        "datos['is_holiday'] = datos['is_holiday'].replace({False:0,True:1})\n",
        "datos['is_weekend'] = datos['is_weekend'].replace({False:0,True:1})\n",
        "datos.sample(3)"
      ],
      "metadata": {
        "id": "doPqiORus8Qg"
      },
      "execution_count": null,
      "outputs": []
    },
    {
      "cell_type": "code",
      "source": [
        "categoricas = ['airline','aircraft_type','origin','day_name']\n",
        "\n",
        "pd.get_dummies(data=datos,columns=categoricas, dtype=int).head()"
      ],
      "metadata": {
        "id": "5daHXxIctfaB"
      },
      "execution_count": null,
      "outputs": []
    },
    {
      "cell_type": "code",
      "source": [
        "datos_codificados =pd.get_dummies(data=datos,columns=categoricas, dtype=int)\n",
        "datos_codificados.sample(5)"
      ],
      "metadata": {
        "id": "XMiY9q-UuHix"
      },
      "execution_count": null,
      "outputs": []
    },
    {
      "cell_type": "code",
      "source": [
        "datos[['arrival_time','departure_time']].corr()"
      ],
      "metadata": {
        "id": "a8YC4MD6uWSh"
      },
      "execution_count": null,
      "outputs": []
    },
    {
      "cell_type": "code",
      "source": [
        "datos_codificados.info()"
      ],
      "metadata": {
        "id": "Aeu5reQ9wfkR"
      },
      "execution_count": null,
      "outputs": []
    },
    {
      "cell_type": "code",
      "source": [
        "df = datos_codificados.drop(columns=['flight_id','departure_time','day','year','date'])\n",
        "df.sample(10)"
      ],
      "metadata": {
        "id": "nxNlcpa3wl5h"
      },
      "execution_count": null,
      "outputs": []
    },
    {
      "cell_type": "markdown",
      "source": [
        "#**CLASE 3**"
      ],
      "metadata": {
        "id": "3XZMiZHg1G5-"
      }
    },
    {
      "cell_type": "markdown",
      "source": [
        "https://scikit-learn.org/stable/"
      ],
      "metadata": {
        "id": "0lM0v-AH1uMz"
      }
    },
    {
      "cell_type": "code",
      "source": [
        "from sklearn.dummy import DummyRegressor\n",
        "from sklearn.model_selection import train_test_split\n",
        "\n",
        "X = df.drop(['delay'],axis=1)\n",
        "y = df['delay']\n",
        "\n",
        "X_train, X_test, y_train, y_test = train_test_split(X,y,test_size=0.3,random_state=42)\n",
        "\n",
        "baseline = DummyRegressor()\n",
        "baseline.fit(X_train,y_train)"
      ],
      "metadata": {
        "id": "4z0rv2CkxLvp"
      },
      "execution_count": null,
      "outputs": []
    },
    {
      "cell_type": "code",
      "source": [
        "from sklearn.metrics import mean_squared_error, mean_absolute_error, r2_score\n",
        "\n",
        "y_pred_dummy = baseline.predict(X_test)\n",
        "\n",
        "def calcular_regresion(y_test,y_pred):\n",
        "  rmse = mean_squared_error(y_test,y_pred)\n",
        "  mae= mean_absolute_error(y_test,y_pred)\n",
        "  r2 = r2_score(y_test,y_pred)\n",
        "  metricas = {\n",
        "      'RMSE':round(rmse**(1/2),4),\n",
        "      'MAE': round(mae,4),\n",
        "      'R2': round(r2,4)\n",
        "  }\n",
        "  return metricas"
      ],
      "metadata": {
        "id": "MQ-0NRso2ixe"
      },
      "execution_count": null,
      "outputs": []
    },
    {
      "cell_type": "code",
      "source": [
        "resultados_baseline = calcular_regresion(y_test, y_pred_dummy)\n",
        "resultados_baseline"
      ],
      "metadata": {
        "id": "U9yaFdsX3s4V"
      },
      "execution_count": null,
      "outputs": []
    },
    {
      "cell_type": "code",
      "source": [
        "from sklearn.ensemble import RandomForestRegressor\n",
        "\n",
        "modelo = RandomForestRegressor(max_depth=5, random_state=42)\n",
        "modelo.fit(X_train,y_train)\n",
        "ypred = modelo.predict(X_test)\n",
        "resultados_rf = calcular_regresion(y_test,ypred)\n",
        "resultados_rf"
      ],
      "metadata": {
        "id": "XeBvVfEo32Tq"
      },
      "execution_count": null,
      "outputs": []
    },
    {
      "cell_type": "code",
      "source": [
        "from yellowbrick.regressor import prediction_error\n",
        "\n",
        "visualizer = prediction_error(modelo, X_train, y_train, X_test, y_test);"
      ],
      "metadata": {
        "id": "Go8Ao9Bi64Oi"
      },
      "execution_count": null,
      "outputs": []
    },
    {
      "cell_type": "code",
      "source": [
        "from yellowbrick.regressor import residuals_plot\n",
        "\n",
        "viz = residuals_plot(modelo, X_train, y_train, X_test, y_test);"
      ],
      "metadata": {
        "id": "TAcM5hNo7ewD"
      },
      "execution_count": null,
      "outputs": []
    },
    {
      "cell_type": "code",
      "source": [
        "from sklearn.model_selection import KFold, cross_validate\n",
        "\n",
        "scoring = {\n",
        "    'RMSE':'neg_root_mean_squared_error',\n",
        "    'MAE':'neg_mean_absolute_error',\n",
        "    'R2':'r2'\n",
        "}\n",
        "\n",
        "cv = KFold(n_splits=5,shuffle=True, random_state=42)\n",
        "cv_results = cross_validate(modelo, X_train, y_train, scoring=scoring, cv=cv)\n",
        "cv_results"
      ],
      "metadata": {
        "id": "Cn43Elb1GQpF"
      },
      "execution_count": null,
      "outputs": []
    },
    {
      "cell_type": "markdown",
      "source": [
        "#**CLASE 4**"
      ],
      "metadata": {
        "id": "HKSjEDIpJWyC"
      }
    },
    {
      "cell_type": "code",
      "source": [
        "len(df.columns)"
      ],
      "metadata": {
        "id": "sf9--86JKjOc"
      },
      "execution_count": null,
      "outputs": []
    },
    {
      "cell_type": "code",
      "source": [
        "importances = modelo.feature_importances_"
      ],
      "metadata": {
        "id": "JpVlhIM3NZKY"
      },
      "execution_count": null,
      "outputs": []
    },
    {
      "cell_type": "code",
      "source": [
        "feature_importances = pd.DataFrame({'Features':X.columns,'Importances':(importances*100).round(2)}).sort_values('Importances',ascending=False)\n",
        "feature_importances"
      ],
      "metadata": {
        "id": "YZVLKBAzNjC3"
      },
      "execution_count": null,
      "outputs": []
    },
    {
      "cell_type": "code",
      "source": [
        "resultados = pd.DataFrame(index=['RMSE','MAE','R2'])\n",
        "model_features = RandomForestRegressor(max_depth=5,random_state=42)\n",
        "ct_features = [i if i != 0 else 1 for i in range(0,35,5)]\n",
        "\n",
        "for i in ct_features:\n",
        "  selected_features = feature_importances['Features'].values[:i]\n",
        "  X_train_sel = X_train[selected_features]\n",
        "  X_test_sel = X_test[selected_features]\n",
        "  model_features.fit(X_train_sel, y_train)\n",
        "  y_pred = model_features.predict(X_test_sel)\n",
        "  metricas = calcular_regresion(y_test,y_pred)\n",
        "  resultados[i] = list(metricas.values())\n",
        "\n",
        "resultados"
      ],
      "metadata": {
        "id": "AzxFNmqQN_i0"
      },
      "execution_count": null,
      "outputs": []
    },
    {
      "cell_type": "code",
      "source": [
        "resultados = pd.DataFrame(index=['RMSE','MAE','R2'])\n",
        "model_features = RandomForestRegressor(max_depth=5,random_state=42)\n",
        "ct_features = range(10,16)\n",
        "\n",
        "for i in ct_features:\n",
        "  selected_features = feature_importances['Features'].values[:i]\n",
        "  X_train_sel = X_train[selected_features]\n",
        "  X_test_sel = X_test[selected_features]\n",
        "  model_features.fit(X_train_sel, y_train)\n",
        "  y_pred = model_features.predict(X_test_sel)\n",
        "  metricas = calcular_regresion(y_test,y_pred)\n",
        "  resultados[i] = list(metricas.values())\n",
        "\n",
        "resultados"
      ],
      "metadata": {
        "id": "O0jX7ZiRPv88"
      },
      "execution_count": null,
      "outputs": []
    },
    {
      "cell_type": "code",
      "source": [
        "selected_features = feature_importances['Features'].values[:13]\n",
        "X_selected_features = X[selected_features]\n",
        "X_selected_features"
      ],
      "metadata": {
        "id": "_oueM4OeQPCE"
      },
      "execution_count": null,
      "outputs": []
    },
    {
      "cell_type": "code",
      "source": [
        "X_train,X_test,y_train,y_test = train_test_split(X_selected_features,y,random_state=42)"
      ],
      "metadata": {
        "id": "yE9r3ertQ2Z0"
      },
      "execution_count": null,
      "outputs": []
    },
    {
      "cell_type": "code",
      "source": [
        "param_grid = {\n",
        "              'max_depth':[5,10,15],\n",
        "              'min_samples_leaf':[1,2,3],\n",
        "              'min_samples_split':[2,4,6],\n",
        "              'n_estimators':[100,150,200]\n",
        "             }"
      ],
      "metadata": {
        "id": "-8dc3f7TRJIs"
      },
      "execution_count": null,
      "outputs": []
    },
    {
      "cell_type": "code",
      "source": [
        "from sklearn.model_selection import GridSearchCV\n",
        "\n",
        "cv = KFold(n_splits=5, shuffle=True, random_state=42)\n",
        "model_grid = GridSearchCV(RandomForestRegressor(random_state=42),\n",
        "                          param_grid=param_grid, scoring='r2',\n",
        "                          cv=cv)\n",
        "\n",
        "model_grid.fit(X_train,y_train)"
      ],
      "metadata": {
        "id": "1dTxqL0ESuZB"
      },
      "execution_count": null,
      "outputs": []
    },
    {
      "cell_type": "code",
      "source": [
        "model_grid.best_params_"
      ],
      "metadata": {
        "id": "Qe9scer8Trn1"
      },
      "execution_count": null,
      "outputs": []
    },
    {
      "cell_type": "code",
      "source": [
        "y_pred_grid = model_grid.predict(X_test)\n",
        "metricas_model_grid = calcular_regresion(y_test,y_pred_grid)\n",
        "metricas_model_grid"
      ],
      "metadata": {
        "id": "km_XoAhIYZLW"
      },
      "execution_count": null,
      "outputs": []
    },
    {
      "cell_type": "code",
      "source": [
        "resultados['modelo_grid'] = list(metricas_model_grid.values())\n",
        "resultados"
      ],
      "metadata": {
        "id": "vXKhhotfYwjx"
      },
      "execution_count": null,
      "outputs": []
    },
    {
      "cell_type": "code",
      "source": [
        "import pickle\n",
        "\n",
        "try:\n",
        "  with open('champion.pkl','wb') as file:\n",
        "    pickle.dump(model_grid.best_estimator_,file)\n",
        "  print('Modelo serializado con éxito')\n",
        "except Exception as e:\n",
        "  print('Se presentó un error al almacenar el modelo: ',str(e))"
      ],
      "metadata": {
        "id": "joMMpab1ZBbV"
      },
      "execution_count": null,
      "outputs": []
    },
    {
      "cell_type": "markdown",
      "source": [
        "#1. Haga lo que hicimos"
      ],
      "metadata": {
        "id": "g7FRAY9ffRrP"
      }
    },
    {
      "cell_type": "code",
      "source": [
        "import pandas as pd\n",
        "datos = pd.read_csv('flights.csv')"
      ],
      "metadata": {
        "id": "TUgyb0TQfQ4z"
      },
      "execution_count": null,
      "outputs": []
    },
    {
      "cell_type": "code",
      "source": [
        "datos.describe()"
      ],
      "metadata": {
        "id": "zEscsW6tfYa-"
      },
      "execution_count": null,
      "outputs": []
    },
    {
      "cell_type": "code",
      "source": [
        "datos.describe(include='O')"
      ],
      "metadata": {
        "id": "LYJqenHjffEN"
      },
      "execution_count": null,
      "outputs": []
    },
    {
      "cell_type": "code",
      "source": [
        "datos.info()"
      ],
      "metadata": {
        "id": "ed7Fv9mUflhj"
      },
      "execution_count": null,
      "outputs": []
    },
    {
      "cell_type": "code",
      "source": [
        "import matplotlib.pyplot as plt\n",
        "import seaborn as sns"
      ],
      "metadata": {
        "id": "pHWoSYoCfrH6"
      },
      "execution_count": null,
      "outputs": []
    },
    {
      "cell_type": "code",
      "source": [
        "retraso_promedio = datos.groupby('airline')['delay'].mean().reset_index()\n",
        "sns.barplot(x='airline', y='delay', data=retraso_promedio)\n",
        "plt.title('Aerolíneas vs retrasos promedio')\n",
        "plt.xlabel('Aerolíneas')\n",
        "plt.ylabel('Retraso promedio en minutos')\n",
        "plt.show()\n",
        "\n",
        "sns.countplot(data=datos, x='airline')\n",
        "plt.title('Número de vuelos por aerolínea')\n",
        "plt.xlabel('Aerolínea')\n",
        "plt.ylabel('Número de vuelos')\n",
        "plt.show()"
      ],
      "metadata": {
        "id": "0VXTB2LIfwls"
      },
      "execution_count": null,
      "outputs": []
    },
    {
      "cell_type": "code",
      "source": [
        "retraso_promedio = datos.groupby('schengen')['delay'].mean().reset_index()\n",
        "sns.barplot(x='schengen', y='delay', data=retraso_promedio)\n",
        "plt.title('Tipo de vuelo vs retrasos promedio')\n",
        "plt.xlabel('Tipo de vuelo')\n",
        "plt.ylabel('Retraso promedio en minutos')\n",
        "plt.show()\n",
        "\n",
        "sns.countplot(data=datos, x='schengen')\n",
        "plt.title('Número de vuelos por tipo de vuelo')\n",
        "plt.xlabel('Tipo de vuelo')\n",
        "plt.ylabel('Número de vuelos')\n",
        "plt.show()"
      ],
      "metadata": {
        "id": "OB5nx7nAf2S2"
      },
      "execution_count": null,
      "outputs": []
    },
    {
      "cell_type": "code",
      "source": [
        "retraso_promedio = datos.groupby('is_holiday')['delay'].mean().reset_index()\n",
        "sns.barplot(x='is_holiday', y='delay', data=retraso_promedio)\n",
        "plt.title('Día festivo vs retrasos promedio')\n",
        "plt.xlabel('¿Es día festivo?')\n",
        "plt.ylabel('Retraso promedio en minutos')\n",
        "plt.show()"
      ],
      "metadata": {
        "id": "L0p-dWDcf9Ti"
      },
      "execution_count": null,
      "outputs": []
    },
    {
      "cell_type": "code",
      "source": [
        "orden = datos['aircraft_type'].value_counts().index\n",
        "sns.countplot(data=datos, x='aircraft_type', order=orden)\n",
        "plt.title('Número de vuelos por tipo de aeronave')\n",
        "plt.xticks(rotation=70)\n",
        "plt.xlabel('Tipo de aeronave')\n",
        "plt.ylabel('Número de vuelos')\n",
        "plt.show()"
      ],
      "metadata": {
        "id": "lMgQf2HEf_jT"
      },
      "execution_count": null,
      "outputs": []
    },
    {
      "cell_type": "code",
      "source": [
        "import numpy as np\n",
        "\n",
        "def calcular_ancho_bin(df, columna):\n",
        "    Q75, Q25 = np.percentile(df[columna], [75, 25])\n",
        "    IQR = Q75 - Q25\n",
        "    ancho_bin = 2 * IQR * np.power(len(df[columna]), -1/3)\n",
        "    return ancho_bin"
      ],
      "metadata": {
        "id": "E4lF7D9sgEP8"
      },
      "execution_count": null,
      "outputs": []
    },
    {
      "cell_type": "code",
      "source": [
        "ancho_bin_at = calcular_ancho_bin(datos, 'arrival_time')\n",
        "ancho_bin_dt = calcular_ancho_bin(datos, 'departure_time')\n",
        "sns.histplot(data=datos, x='arrival_time', kde=True, binwidth=ancho_bin_at)\n",
        "sns.histplot(data=datos, x='departure_time', kde=True, binwidth=ancho_bin_dt)\n",
        "Copia el código"
      ],
      "metadata": {
        "id": "ja2VSYWPgH3f"
      },
      "execution_count": null,
      "outputs": []
    },
    {
      "cell_type": "code",
      "source": [
        "media_retraso = datos['delay'].mean()\n",
        "mediana_retraso = datos['delay'].median()\n",
        "\n",
        "fig, axes = plt.subplots(1, 2, figsize=(9, 4))\n",
        "\n",
        "sns.boxplot(data=datos, y='delay', ax=axes[0])\n",
        "axes[0].set_title('Boxplot')\n",
        "\n",
        "axes[0].axhline(y=media_retraso, color='r', linestyle='--', label='Media')\n",
        "axes[0].legend()\n",
        "\n",
        "ancho_bin_delay = calcular_ancho_bin(datos, 'delay')\n",
        "sns.histplot(data=datos, x='delay', ax=axes[1], kde=True, binwidth=ancho_bin_delay)\n",
        "plt.ylabel('Número de vuelos')\n",
        "plt.grid(False)\n",
        "axes[1].set_title('Histograma')\n",
        "\n",
        "axes[1].axvline(x=media_retraso, color='r', linestyle='--', label='Media')\n",
        "axes[1].axvline(x=mediana_retraso, color='y', linestyle='--', label='Mediana')\n",
        "axes[1].legend()\n",
        "\n",
        "plt.tight_layout()\n",
        "plt.show()"
      ],
      "metadata": {
        "id": "DecbU5nTgMsD"
      },
      "execution_count": null,
      "outputs": []
    },
    {
      "cell_type": "markdown",
      "source": [
        "#2. Haga lo que hicimos"
      ],
      "metadata": {
        "id": "qKaGIyfb1Rhy"
      }
    },
    {
      "cell_type": "code",
      "source": [
        "datos['date'] = pd.to_datetime(datos[datos['year'].astype(str)+ '-' + (datos['day']+1).astype(str), format='%Y-%J')\n",
        "\n",
        "datos['is_weekend'] = datos['date'].dt.weekday.isin([5, 6])\n",
        "\n",
        "datos['day_name'] = datos['date'].dt.day_name()"
      ],
      "metadata": {
        "id": "0nkOZ8BC1XiK"
      },
      "execution_count": null,
      "outputs": []
    },
    {
      "cell_type": "code",
      "source": [
        "datos['schegen'] = datos['schengen'].replace({'non-schengen': 0, 'schengen': 1})\n",
        "datos['is_holiday'] = datos['is_holiday'].replace({False: 0, True: 1})\n",
        "datos['is_weekend'] = datos['is_weekend'].replace({False: 0, True: 1})"
      ],
      "metadata": {
        "id": "3zTa_BcN9lvW"
      },
      "execution_count": null,
      "outputs": []
    },
    {
      "cell_type": "code",
      "source": [
        "variables_categoricas = ['airline', 'aircraft_type', 'origin', 'day_name']\n",
        "df_encoded = pd.get_dummies(data=datos, columns=variables_categoricas, dtype=int)\n"
      ],
      "metadata": {
        "id": "78jwq72cBwEB"
      },
      "execution_count": null,
      "outputs": []
    },
    {
      "cell_type": "code",
      "source": [
        "df_clean = df_encoded.drop(['flight_id', 'departure_time', 'day', 'year', 'date'], axis=1)"
      ],
      "metadata": {
        "id": "ZAfnqMixE5Ty"
      },
      "execution_count": null,
      "outputs": []
    },
    {
      "cell_type": "markdown",
      "source": [
        "#3. Haga lo que hicimos"
      ],
      "metadata": {
        "id": "TwNHP9I1IOXT"
      }
    },
    {
      "cell_type": "code",
      "source": [
        "from sklearn.model_selection import train_test_split\n",
        "\n",
        "x = df_clean.drop(['delay'], axis=1)\n",
        "y = df_clean['delay']\n",
        "\n",
        "x_train, x_test, y_train, y_test = train_test_split(x, y, random_state=42)"
      ],
      "metadata": {
        "id": "RbwyVarPINj7"
      },
      "execution_count": null,
      "outputs": []
    },
    {
      "cell_type": "code",
      "source": [
        "from sklearn.dummy import DummyRegressor\n",
        "\n",
        "model_dummy = DummyRegressor()\n",
        "model_dummy.fit(x_train, y_train)\n",
        "y_pred_dummy = model_dummy.predict(x_test)"
      ],
      "metadata": {
        "id": "7NNEtjqkJp1B"
      },
      "execution_count": null,
      "outputs": []
    },
    {
      "cell_type": "code",
      "source": [
        "from sklearn.metrics import mean_squared_error, mean_absolute_error, r2_score\n",
        "\n",
        "rmse = mean_squared_error(y_test, y_pred, squared=False)\n",
        "mae = mean_absolute_error(y_test, y_pred,)\n",
        "r2 = r2_score(y_test, y_pred)\n",
        "\n",
        "metricas = {\n",
        "    'Raíz del Error Cuadrático Medio': round(rmse, 4),\n",
        "    'Error Absoluto Medio': round(mae, 4),\n",
        "    'R2 Score': round(r2, 4)\n",
        "}\n",
        "\n",
        "return metricas\n"
      ],
      "metadata": {
        "id": "EUq8mUNILj01"
      },
      "execution_count": null,
      "outputs": []
    },
    {
      "cell_type": "code",
      "source": [
        "calcular_metricas_regresion(y_test, y_pred_dummy)"
      ],
      "metadata": {
        "id": "zM-25PGiMpXA"
      },
      "execution_count": null,
      "outputs": []
    },
    {
      "cell_type": "code",
      "source": [
        "from sklearn.ensemble import RandomForestRegressor\n",
        "\n",
        "model_rf = RandomForestRegressor(max_depth=5, random_state=42)\n",
        "model_rf.fit(x_train, y_train)\n",
        "y_pred = model_rf.predict(x_test)\n",
        "calcular_metricas_regresion(y_test, y_pred_rf)\n"
      ],
      "metadata": {
        "id": "6jpGTFrsM1sI"
      },
      "execution_count": null,
      "outputs": []
    },
    {
      "cell_type": "code",
      "source": [],
      "metadata": {
        "id": "J71HKb9dSw9_"
      },
      "execution_count": null,
      "outputs": []
    },
    {
      "cell_type": "code",
      "source": [
        "from yellowbrick.regressor import prediction_error\n",
        "\n",
        "visualizer = prediction_error(model_rf, x_train, y_train, x_test, y_test)\n"
      ],
      "metadata": {
        "id": "8fnono2jPxzo"
      },
      "execution_count": null,
      "outputs": []
    },
    {
      "cell_type": "code",
      "source": [
        "from yellowbrick.regressor import residuals_plot\n",
        "\n",
        "viz = residuals_plot(model_rf, x_train, y_train, x_test, y_test)"
      ],
      "metadata": {
        "id": "6-TnO4q_Tcaz"
      },
      "execution_count": null,
      "outputs": []
    },
    {
      "cell_type": "code",
      "source": [
        "from sklearn.model_selection import KFold, cross_validate\n",
        "\n",
        "scoring = {\n",
        "     'mae': 'neg_mean_absolute_error',\n",
        "     'rmse': 'neg_root_mean_squared_error',\n",
        "     'R2': 'r2'\n",
        "}\n",
        "\n",
        "cv = KFold(n_splits=5, shuffle=True, random_state=42)\n",
        "cv_results = cross_validate(model_rf, x_train, y_train, cv=cv, scoring=scoring)\n",
        "\n",
        "for metric in scoring.keys():\n",
        "  scores = cv_results[f'test_{metric}']\n",
        "  mean_score = \"{:.3f}\".format(Scores.mean())\n",
        "  std_score = \"{:.3f}\".format(Scores.std())\n",
        "  print(f\"{metric.upper()} Scores: {[f'{val:.3f]' for val in scores]}\")\n",
        "  print(f\"{metric.upper()}   Medida: {mean_score}, Std: {std_score}\")\n",
        "  print('--------------------------------------------------------------------')"
      ],
      "metadata": {
        "id": "wRVtZYFWVRz2"
      },
      "execution_count": null,
      "outputs": []
    },
    {
      "cell_type": "markdown",
      "source": [
        "#Hago lo que hicimos"
      ],
      "metadata": {
        "id": "JVN7wrzImuhx"
      }
    },
    {
      "cell_type": "code",
      "source": [
        "import pandas as pd\n",
        "datos = pd.read_csv('flights.csv')"
      ],
      "metadata": {
        "colab": {
          "base_uri": "https://localhost:8080/",
          "height": 304
        },
        "id": "hsrbRSS3mpJd",
        "outputId": "4ef308d3-6d04-4da6-8aa0-9c5b5b58ef0c"
      },
      "execution_count": 4,
      "outputs": [
        {
          "output_type": "error",
          "ename": "FileNotFoundError",
          "evalue": "[Errno 2] No such file or directory: 'flights.csv'",
          "traceback": [
            "\u001b[0;31m---------------------------------------------------------------------------\u001b[0m",
            "\u001b[0;31mFileNotFoundError\u001b[0m                         Traceback (most recent call last)",
            "\u001b[0;32m/tmp/ipython-input-3966846551.py\u001b[0m in \u001b[0;36m<cell line: 0>\u001b[0;34m()\u001b[0m\n\u001b[1;32m      1\u001b[0m \u001b[0;32mimport\u001b[0m \u001b[0mpandas\u001b[0m \u001b[0;32mas\u001b[0m \u001b[0mpd\u001b[0m\u001b[0;34m\u001b[0m\u001b[0;34m\u001b[0m\u001b[0m\n\u001b[0;32m----> 2\u001b[0;31m \u001b[0mdatos\u001b[0m \u001b[0;34m=\u001b[0m \u001b[0mpd\u001b[0m\u001b[0;34m.\u001b[0m\u001b[0mread_csv\u001b[0m\u001b[0;34m(\u001b[0m\u001b[0;34m'flights.csv'\u001b[0m\u001b[0;34m)\u001b[0m\u001b[0;34m\u001b[0m\u001b[0;34m\u001b[0m\u001b[0m\n\u001b[0m",
            "\u001b[0;32m/usr/local/lib/python3.11/dist-packages/pandas/io/parsers/readers.py\u001b[0m in \u001b[0;36mread_csv\u001b[0;34m(filepath_or_buffer, sep, delimiter, header, names, index_col, usecols, dtype, engine, converters, true_values, false_values, skipinitialspace, skiprows, skipfooter, nrows, na_values, keep_default_na, na_filter, verbose, skip_blank_lines, parse_dates, infer_datetime_format, keep_date_col, date_parser, date_format, dayfirst, cache_dates, iterator, chunksize, compression, thousands, decimal, lineterminator, quotechar, quoting, doublequote, escapechar, comment, encoding, encoding_errors, dialect, on_bad_lines, delim_whitespace, low_memory, memory_map, float_precision, storage_options, dtype_backend)\u001b[0m\n\u001b[1;32m   1024\u001b[0m     \u001b[0mkwds\u001b[0m\u001b[0;34m.\u001b[0m\u001b[0mupdate\u001b[0m\u001b[0;34m(\u001b[0m\u001b[0mkwds_defaults\u001b[0m\u001b[0;34m)\u001b[0m\u001b[0;34m\u001b[0m\u001b[0;34m\u001b[0m\u001b[0m\n\u001b[1;32m   1025\u001b[0m \u001b[0;34m\u001b[0m\u001b[0m\n\u001b[0;32m-> 1026\u001b[0;31m     \u001b[0;32mreturn\u001b[0m \u001b[0m_read\u001b[0m\u001b[0;34m(\u001b[0m\u001b[0mfilepath_or_buffer\u001b[0m\u001b[0;34m,\u001b[0m \u001b[0mkwds\u001b[0m\u001b[0;34m)\u001b[0m\u001b[0;34m\u001b[0m\u001b[0;34m\u001b[0m\u001b[0m\n\u001b[0m\u001b[1;32m   1027\u001b[0m \u001b[0;34m\u001b[0m\u001b[0m\n\u001b[1;32m   1028\u001b[0m \u001b[0;34m\u001b[0m\u001b[0m\n",
            "\u001b[0;32m/usr/local/lib/python3.11/dist-packages/pandas/io/parsers/readers.py\u001b[0m in \u001b[0;36m_read\u001b[0;34m(filepath_or_buffer, kwds)\u001b[0m\n\u001b[1;32m    618\u001b[0m \u001b[0;34m\u001b[0m\u001b[0m\n\u001b[1;32m    619\u001b[0m     \u001b[0;31m# Create the parser.\u001b[0m\u001b[0;34m\u001b[0m\u001b[0;34m\u001b[0m\u001b[0m\n\u001b[0;32m--> 620\u001b[0;31m     \u001b[0mparser\u001b[0m \u001b[0;34m=\u001b[0m \u001b[0mTextFileReader\u001b[0m\u001b[0;34m(\u001b[0m\u001b[0mfilepath_or_buffer\u001b[0m\u001b[0;34m,\u001b[0m \u001b[0;34m**\u001b[0m\u001b[0mkwds\u001b[0m\u001b[0;34m)\u001b[0m\u001b[0;34m\u001b[0m\u001b[0;34m\u001b[0m\u001b[0m\n\u001b[0m\u001b[1;32m    621\u001b[0m \u001b[0;34m\u001b[0m\u001b[0m\n\u001b[1;32m    622\u001b[0m     \u001b[0;32mif\u001b[0m \u001b[0mchunksize\u001b[0m \u001b[0;32mor\u001b[0m \u001b[0miterator\u001b[0m\u001b[0;34m:\u001b[0m\u001b[0;34m\u001b[0m\u001b[0;34m\u001b[0m\u001b[0m\n",
            "\u001b[0;32m/usr/local/lib/python3.11/dist-packages/pandas/io/parsers/readers.py\u001b[0m in \u001b[0;36m__init__\u001b[0;34m(self, f, engine, **kwds)\u001b[0m\n\u001b[1;32m   1618\u001b[0m \u001b[0;34m\u001b[0m\u001b[0m\n\u001b[1;32m   1619\u001b[0m         \u001b[0mself\u001b[0m\u001b[0;34m.\u001b[0m\u001b[0mhandles\u001b[0m\u001b[0;34m:\u001b[0m \u001b[0mIOHandles\u001b[0m \u001b[0;34m|\u001b[0m \u001b[0;32mNone\u001b[0m \u001b[0;34m=\u001b[0m \u001b[0;32mNone\u001b[0m\u001b[0;34m\u001b[0m\u001b[0;34m\u001b[0m\u001b[0m\n\u001b[0;32m-> 1620\u001b[0;31m         \u001b[0mself\u001b[0m\u001b[0;34m.\u001b[0m\u001b[0m_engine\u001b[0m \u001b[0;34m=\u001b[0m \u001b[0mself\u001b[0m\u001b[0;34m.\u001b[0m\u001b[0m_make_engine\u001b[0m\u001b[0;34m(\u001b[0m\u001b[0mf\u001b[0m\u001b[0;34m,\u001b[0m \u001b[0mself\u001b[0m\u001b[0;34m.\u001b[0m\u001b[0mengine\u001b[0m\u001b[0;34m)\u001b[0m\u001b[0;34m\u001b[0m\u001b[0;34m\u001b[0m\u001b[0m\n\u001b[0m\u001b[1;32m   1621\u001b[0m \u001b[0;34m\u001b[0m\u001b[0m\n\u001b[1;32m   1622\u001b[0m     \u001b[0;32mdef\u001b[0m \u001b[0mclose\u001b[0m\u001b[0;34m(\u001b[0m\u001b[0mself\u001b[0m\u001b[0;34m)\u001b[0m \u001b[0;34m->\u001b[0m \u001b[0;32mNone\u001b[0m\u001b[0;34m:\u001b[0m\u001b[0;34m\u001b[0m\u001b[0;34m\u001b[0m\u001b[0m\n",
            "\u001b[0;32m/usr/local/lib/python3.11/dist-packages/pandas/io/parsers/readers.py\u001b[0m in \u001b[0;36m_make_engine\u001b[0;34m(self, f, engine)\u001b[0m\n\u001b[1;32m   1878\u001b[0m                 \u001b[0;32mif\u001b[0m \u001b[0;34m\"b\"\u001b[0m \u001b[0;32mnot\u001b[0m \u001b[0;32min\u001b[0m \u001b[0mmode\u001b[0m\u001b[0;34m:\u001b[0m\u001b[0;34m\u001b[0m\u001b[0;34m\u001b[0m\u001b[0m\n\u001b[1;32m   1879\u001b[0m                     \u001b[0mmode\u001b[0m \u001b[0;34m+=\u001b[0m \u001b[0;34m\"b\"\u001b[0m\u001b[0;34m\u001b[0m\u001b[0;34m\u001b[0m\u001b[0m\n\u001b[0;32m-> 1880\u001b[0;31m             self.handles = get_handle(\n\u001b[0m\u001b[1;32m   1881\u001b[0m                 \u001b[0mf\u001b[0m\u001b[0;34m,\u001b[0m\u001b[0;34m\u001b[0m\u001b[0;34m\u001b[0m\u001b[0m\n\u001b[1;32m   1882\u001b[0m                 \u001b[0mmode\u001b[0m\u001b[0;34m,\u001b[0m\u001b[0;34m\u001b[0m\u001b[0;34m\u001b[0m\u001b[0m\n",
            "\u001b[0;32m/usr/local/lib/python3.11/dist-packages/pandas/io/common.py\u001b[0m in \u001b[0;36mget_handle\u001b[0;34m(path_or_buf, mode, encoding, compression, memory_map, is_text, errors, storage_options)\u001b[0m\n\u001b[1;32m    871\u001b[0m         \u001b[0;32mif\u001b[0m \u001b[0mioargs\u001b[0m\u001b[0;34m.\u001b[0m\u001b[0mencoding\u001b[0m \u001b[0;32mand\u001b[0m \u001b[0;34m\"b\"\u001b[0m \u001b[0;32mnot\u001b[0m \u001b[0;32min\u001b[0m \u001b[0mioargs\u001b[0m\u001b[0;34m.\u001b[0m\u001b[0mmode\u001b[0m\u001b[0;34m:\u001b[0m\u001b[0;34m\u001b[0m\u001b[0;34m\u001b[0m\u001b[0m\n\u001b[1;32m    872\u001b[0m             \u001b[0;31m# Encoding\u001b[0m\u001b[0;34m\u001b[0m\u001b[0;34m\u001b[0m\u001b[0m\n\u001b[0;32m--> 873\u001b[0;31m             handle = open(\n\u001b[0m\u001b[1;32m    874\u001b[0m                 \u001b[0mhandle\u001b[0m\u001b[0;34m,\u001b[0m\u001b[0;34m\u001b[0m\u001b[0;34m\u001b[0m\u001b[0m\n\u001b[1;32m    875\u001b[0m                 \u001b[0mioargs\u001b[0m\u001b[0;34m.\u001b[0m\u001b[0mmode\u001b[0m\u001b[0;34m,\u001b[0m\u001b[0;34m\u001b[0m\u001b[0;34m\u001b[0m\u001b[0m\n",
            "\u001b[0;31mFileNotFoundError\u001b[0m: [Errno 2] No such file or directory: 'flights.csv'"
          ]
        }
      ]
    },
    {
      "cell_type": "code",
      "source": [
        "datos.describe()"
      ],
      "metadata": {
        "id": "Fc3LNrNHTpgH",
        "colab": {
          "base_uri": "https://localhost:8080/",
          "height": 141
        },
        "outputId": "147c4940-0190-4ea1-a999-fe5ed47c3afe"
      },
      "execution_count": 5,
      "outputs": [
        {
          "output_type": "error",
          "ename": "NameError",
          "evalue": "name 'datos' is not defined",
          "traceback": [
            "\u001b[0;31m---------------------------------------------------------------------------\u001b[0m",
            "\u001b[0;31mNameError\u001b[0m                                 Traceback (most recent call last)",
            "\u001b[0;32m/tmp/ipython-input-2285700230.py\u001b[0m in \u001b[0;36m<cell line: 0>\u001b[0;34m()\u001b[0m\n\u001b[0;32m----> 1\u001b[0;31m \u001b[0mdatos\u001b[0m\u001b[0;34m.\u001b[0m\u001b[0mdescribe\u001b[0m\u001b[0;34m(\u001b[0m\u001b[0;34m)\u001b[0m\u001b[0;34m\u001b[0m\u001b[0;34m\u001b[0m\u001b[0m\n\u001b[0m",
            "\u001b[0;31mNameError\u001b[0m: name 'datos' is not defined"
          ]
        }
      ]
    },
    {
      "cell_type": "code",
      "source": [
        "datos.describe(include='O')"
      ],
      "metadata": {
        "colab": {
          "base_uri": "https://localhost:8080/",
          "height": 141
        },
        "id": "Y2lxZff8m3i0",
        "outputId": "af8c9781-f660-4683-f4d1-c550e5cfc742"
      },
      "execution_count": 6,
      "outputs": [
        {
          "output_type": "error",
          "ename": "NameError",
          "evalue": "name 'datos' is not defined",
          "traceback": [
            "\u001b[0;31m---------------------------------------------------------------------------\u001b[0m",
            "\u001b[0;31mNameError\u001b[0m                                 Traceback (most recent call last)",
            "\u001b[0;32m/tmp/ipython-input-1094319266.py\u001b[0m in \u001b[0;36m<cell line: 0>\u001b[0;34m()\u001b[0m\n\u001b[0;32m----> 1\u001b[0;31m \u001b[0mdatos\u001b[0m\u001b[0;34m.\u001b[0m\u001b[0mdescribe\u001b[0m\u001b[0;34m(\u001b[0m\u001b[0minclude\u001b[0m\u001b[0;34m=\u001b[0m\u001b[0;34m'O'\u001b[0m\u001b[0;34m)\u001b[0m\u001b[0;34m\u001b[0m\u001b[0;34m\u001b[0m\u001b[0m\n\u001b[0m",
            "\u001b[0;31mNameError\u001b[0m: name 'datos' is not defined"
          ]
        }
      ]
    },
    {
      "cell_type": "code",
      "source": [
        "datos.info()"
      ],
      "metadata": {
        "colab": {
          "base_uri": "https://localhost:8080/",
          "height": 141
        },
        "id": "QKyPlzXim8q-",
        "outputId": "302ca015-2984-4852-b2d3-92d3c3f3886e"
      },
      "execution_count": 7,
      "outputs": [
        {
          "output_type": "error",
          "ename": "NameError",
          "evalue": "name 'datos' is not defined",
          "traceback": [
            "\u001b[0;31m---------------------------------------------------------------------------\u001b[0m",
            "\u001b[0;31mNameError\u001b[0m                                 Traceback (most recent call last)",
            "\u001b[0;32m/tmp/ipython-input-3168201611.py\u001b[0m in \u001b[0;36m<cell line: 0>\u001b[0;34m()\u001b[0m\n\u001b[0;32m----> 1\u001b[0;31m \u001b[0mdatos\u001b[0m\u001b[0;34m.\u001b[0m\u001b[0minfo\u001b[0m\u001b[0;34m(\u001b[0m\u001b[0;34m)\u001b[0m\u001b[0;34m\u001b[0m\u001b[0;34m\u001b[0m\u001b[0m\n\u001b[0m",
            "\u001b[0;31mNameError\u001b[0m: name 'datos' is not defined"
          ]
        }
      ]
    },
    {
      "cell_type": "code",
      "source": [
        "import matplotlib.pyplot as plt\n",
        "import seaborn as sns"
      ],
      "metadata": {
        "id": "-COC3ig1nAQx"
      },
      "execution_count": 8,
      "outputs": []
    },
    {
      "cell_type": "code",
      "source": [
        "retraso_promedio = datos.groupby('airline')['delay'].mean().reset_index()\n",
        "sns.barplot(x='airline', y='delay', data=retraso_promedio)\n",
        "plt.title('Aerolíneas vs retrasos promedio')\n",
        "plt.xlabel('Aerolíneas')\n",
        "plt.ylabel('Retraso promedio en minutos')\n",
        "plt.show()\n",
        "\n",
        "sns.countplot(data=datos, x='airline')\n",
        "plt.title('Número de vuelos por aerolínea')\n",
        "plt.xlabel('Aerolínea')\n",
        "plt.ylabel('Número de vuelos')\n",
        "plt.show()"
      ],
      "metadata": {
        "colab": {
          "base_uri": "https://localhost:8080/",
          "height": 211
        },
        "id": "0RmXr2yHnD46",
        "outputId": "084ff591-b04e-46d9-96cc-588610f4b9b4"
      },
      "execution_count": 9,
      "outputs": [
        {
          "output_type": "error",
          "ename": "NameError",
          "evalue": "name 'datos' is not defined",
          "traceback": [
            "\u001b[0;31m---------------------------------------------------------------------------\u001b[0m",
            "\u001b[0;31mNameError\u001b[0m                                 Traceback (most recent call last)",
            "\u001b[0;32m/tmp/ipython-input-1760058298.py\u001b[0m in \u001b[0;36m<cell line: 0>\u001b[0;34m()\u001b[0m\n\u001b[0;32m----> 1\u001b[0;31m \u001b[0mretraso_promedio\u001b[0m \u001b[0;34m=\u001b[0m \u001b[0mdatos\u001b[0m\u001b[0;34m.\u001b[0m\u001b[0mgroupby\u001b[0m\u001b[0;34m(\u001b[0m\u001b[0;34m'airline'\u001b[0m\u001b[0;34m)\u001b[0m\u001b[0;34m[\u001b[0m\u001b[0;34m'delay'\u001b[0m\u001b[0;34m]\u001b[0m\u001b[0;34m.\u001b[0m\u001b[0mmean\u001b[0m\u001b[0;34m(\u001b[0m\u001b[0;34m)\u001b[0m\u001b[0;34m.\u001b[0m\u001b[0mreset_index\u001b[0m\u001b[0;34m(\u001b[0m\u001b[0;34m)\u001b[0m\u001b[0;34m\u001b[0m\u001b[0;34m\u001b[0m\u001b[0m\n\u001b[0m\u001b[1;32m      2\u001b[0m \u001b[0msns\u001b[0m\u001b[0;34m.\u001b[0m\u001b[0mbarplot\u001b[0m\u001b[0;34m(\u001b[0m\u001b[0mx\u001b[0m\u001b[0;34m=\u001b[0m\u001b[0;34m'airline'\u001b[0m\u001b[0;34m,\u001b[0m \u001b[0my\u001b[0m\u001b[0;34m=\u001b[0m\u001b[0;34m'delay'\u001b[0m\u001b[0;34m,\u001b[0m \u001b[0mdata\u001b[0m\u001b[0;34m=\u001b[0m\u001b[0mretraso_promedio\u001b[0m\u001b[0;34m)\u001b[0m\u001b[0;34m\u001b[0m\u001b[0;34m\u001b[0m\u001b[0m\n\u001b[1;32m      3\u001b[0m \u001b[0mplt\u001b[0m\u001b[0;34m.\u001b[0m\u001b[0mtitle\u001b[0m\u001b[0;34m(\u001b[0m\u001b[0;34m'Aerolíneas vs retrasos promedio'\u001b[0m\u001b[0;34m)\u001b[0m\u001b[0;34m\u001b[0m\u001b[0;34m\u001b[0m\u001b[0m\n\u001b[1;32m      4\u001b[0m \u001b[0mplt\u001b[0m\u001b[0;34m.\u001b[0m\u001b[0mxlabel\u001b[0m\u001b[0;34m(\u001b[0m\u001b[0;34m'Aerolíneas'\u001b[0m\u001b[0;34m)\u001b[0m\u001b[0;34m\u001b[0m\u001b[0;34m\u001b[0m\u001b[0m\n\u001b[1;32m      5\u001b[0m \u001b[0mplt\u001b[0m\u001b[0;34m.\u001b[0m\u001b[0mylabel\u001b[0m\u001b[0;34m(\u001b[0m\u001b[0;34m'Retraso promedio en minutos'\u001b[0m\u001b[0;34m)\u001b[0m\u001b[0;34m\u001b[0m\u001b[0;34m\u001b[0m\u001b[0m\n",
            "\u001b[0;31mNameError\u001b[0m: name 'datos' is not defined"
          ]
        }
      ]
    },
    {
      "cell_type": "code",
      "source": [
        "retraso_promedio = datos.groupby('schengen')['delay'].mean().reset_index()\n",
        "sns.barplot(x='schengen', y='delay', data=retraso_promedio)\n",
        "plt.title('Tipo de vuelo vs retrasos promedio')\n",
        "plt.xlabel('Tipo de vuelo')\n",
        "plt.ylabel('Retraso promedio en minutos')\n",
        "plt.show()\n",
        "\n",
        "sns.countplot(data=datos, x='schengen')\n",
        "plt.title('Número de vuelos por tipo de vuelo')\n",
        "plt.xlabel('Tipo de vuelo')\n",
        "plt.ylabel('Número de vuelos')\n",
        "plt.show()"
      ],
      "metadata": {
        "colab": {
          "base_uri": "https://localhost:8080/",
          "height": 211
        },
        "id": "LVeMX1MLnJkD",
        "outputId": "62afdaa1-e081-49aa-9280-d7057c7acbfa"
      },
      "execution_count": 11,
      "outputs": [
        {
          "output_type": "error",
          "ename": "NameError",
          "evalue": "name 'datos' is not defined",
          "traceback": [
            "\u001b[0;31m---------------------------------------------------------------------------\u001b[0m",
            "\u001b[0;31mNameError\u001b[0m                                 Traceback (most recent call last)",
            "\u001b[0;32m/tmp/ipython-input-2251476668.py\u001b[0m in \u001b[0;36m<cell line: 0>\u001b[0;34m()\u001b[0m\n\u001b[0;32m----> 1\u001b[0;31m \u001b[0mretraso_promedio\u001b[0m \u001b[0;34m=\u001b[0m \u001b[0mdatos\u001b[0m\u001b[0;34m.\u001b[0m\u001b[0mgroupby\u001b[0m\u001b[0;34m(\u001b[0m\u001b[0;34m'schengen'\u001b[0m\u001b[0;34m)\u001b[0m\u001b[0;34m[\u001b[0m\u001b[0;34m'delay'\u001b[0m\u001b[0;34m]\u001b[0m\u001b[0;34m.\u001b[0m\u001b[0mmean\u001b[0m\u001b[0;34m(\u001b[0m\u001b[0;34m)\u001b[0m\u001b[0;34m.\u001b[0m\u001b[0mreset_index\u001b[0m\u001b[0;34m(\u001b[0m\u001b[0;34m)\u001b[0m\u001b[0;34m\u001b[0m\u001b[0;34m\u001b[0m\u001b[0m\n\u001b[0m\u001b[1;32m      2\u001b[0m \u001b[0msns\u001b[0m\u001b[0;34m.\u001b[0m\u001b[0mbarplot\u001b[0m\u001b[0;34m(\u001b[0m\u001b[0mx\u001b[0m\u001b[0;34m=\u001b[0m\u001b[0;34m'schengen'\u001b[0m\u001b[0;34m,\u001b[0m \u001b[0my\u001b[0m\u001b[0;34m=\u001b[0m\u001b[0;34m'delay'\u001b[0m\u001b[0;34m,\u001b[0m \u001b[0mdata\u001b[0m\u001b[0;34m=\u001b[0m\u001b[0mretraso_promedio\u001b[0m\u001b[0;34m)\u001b[0m\u001b[0;34m\u001b[0m\u001b[0;34m\u001b[0m\u001b[0m\n\u001b[1;32m      3\u001b[0m \u001b[0mplt\u001b[0m\u001b[0;34m.\u001b[0m\u001b[0mtitle\u001b[0m\u001b[0;34m(\u001b[0m\u001b[0;34m'Tipo de vuelo vs retrasos promedio'\u001b[0m\u001b[0;34m)\u001b[0m\u001b[0;34m\u001b[0m\u001b[0;34m\u001b[0m\u001b[0m\n\u001b[1;32m      4\u001b[0m \u001b[0mplt\u001b[0m\u001b[0;34m.\u001b[0m\u001b[0mxlabel\u001b[0m\u001b[0;34m(\u001b[0m\u001b[0;34m'Tipo de vuelo'\u001b[0m\u001b[0;34m)\u001b[0m\u001b[0;34m\u001b[0m\u001b[0;34m\u001b[0m\u001b[0m\n\u001b[1;32m      5\u001b[0m \u001b[0mplt\u001b[0m\u001b[0;34m.\u001b[0m\u001b[0mylabel\u001b[0m\u001b[0;34m(\u001b[0m\u001b[0;34m'Retraso promedio en minutos'\u001b[0m\u001b[0;34m)\u001b[0m\u001b[0;34m\u001b[0m\u001b[0;34m\u001b[0m\u001b[0m\n",
            "\u001b[0;31mNameError\u001b[0m: name 'datos' is not defined"
          ]
        }
      ]
    },
    {
      "cell_type": "code",
      "source": [
        "retraso_promedio = datos.groupby('is_holiday')['delay'].mean().reset_index()\n",
        "sns.barplot(x='is_holiday', y='delay', data=retraso_promedio)\n",
        "plt.title('Día festivo vs retrasos promedio')\n",
        "plt.xlabel('¿Es día festivo?')\n",
        "plt.ylabel('Retraso promedio en minutos')\n",
        "plt.show()"
      ],
      "metadata": {
        "colab": {
          "base_uri": "https://localhost:8080/",
          "height": 211
        },
        "id": "W2y5CssdnMww",
        "outputId": "7b1bcd33-57f9-478b-865f-dd05a0e2710e"
      },
      "execution_count": 10,
      "outputs": [
        {
          "output_type": "error",
          "ename": "NameError",
          "evalue": "name 'datos' is not defined",
          "traceback": [
            "\u001b[0;31m---------------------------------------------------------------------------\u001b[0m",
            "\u001b[0;31mNameError\u001b[0m                                 Traceback (most recent call last)",
            "\u001b[0;32m/tmp/ipython-input-4150638014.py\u001b[0m in \u001b[0;36m<cell line: 0>\u001b[0;34m()\u001b[0m\n\u001b[0;32m----> 1\u001b[0;31m \u001b[0mretraso_promedio\u001b[0m \u001b[0;34m=\u001b[0m \u001b[0mdatos\u001b[0m\u001b[0;34m.\u001b[0m\u001b[0mgroupby\u001b[0m\u001b[0;34m(\u001b[0m\u001b[0;34m'is_holiday'\u001b[0m\u001b[0;34m)\u001b[0m\u001b[0;34m[\u001b[0m\u001b[0;34m'delay'\u001b[0m\u001b[0;34m]\u001b[0m\u001b[0;34m.\u001b[0m\u001b[0mmean\u001b[0m\u001b[0;34m(\u001b[0m\u001b[0;34m)\u001b[0m\u001b[0;34m.\u001b[0m\u001b[0mreset_index\u001b[0m\u001b[0;34m(\u001b[0m\u001b[0;34m)\u001b[0m\u001b[0;34m\u001b[0m\u001b[0;34m\u001b[0m\u001b[0m\n\u001b[0m\u001b[1;32m      2\u001b[0m \u001b[0msns\u001b[0m\u001b[0;34m.\u001b[0m\u001b[0mbarplot\u001b[0m\u001b[0;34m(\u001b[0m\u001b[0mx\u001b[0m\u001b[0;34m=\u001b[0m\u001b[0;34m'is_holiday'\u001b[0m\u001b[0;34m,\u001b[0m \u001b[0my\u001b[0m\u001b[0;34m=\u001b[0m\u001b[0;34m'delay'\u001b[0m\u001b[0;34m,\u001b[0m \u001b[0mdata\u001b[0m\u001b[0;34m=\u001b[0m\u001b[0mretraso_promedio\u001b[0m\u001b[0;34m)\u001b[0m\u001b[0;34m\u001b[0m\u001b[0;34m\u001b[0m\u001b[0m\n\u001b[1;32m      3\u001b[0m \u001b[0mplt\u001b[0m\u001b[0;34m.\u001b[0m\u001b[0mtitle\u001b[0m\u001b[0;34m(\u001b[0m\u001b[0;34m'Día festivo vs retrasos promedio'\u001b[0m\u001b[0;34m)\u001b[0m\u001b[0;34m\u001b[0m\u001b[0;34m\u001b[0m\u001b[0m\n\u001b[1;32m      4\u001b[0m \u001b[0mplt\u001b[0m\u001b[0;34m.\u001b[0m\u001b[0mxlabel\u001b[0m\u001b[0;34m(\u001b[0m\u001b[0;34m'¿Es día festivo?'\u001b[0m\u001b[0;34m)\u001b[0m\u001b[0;34m\u001b[0m\u001b[0;34m\u001b[0m\u001b[0m\n\u001b[1;32m      5\u001b[0m \u001b[0mplt\u001b[0m\u001b[0;34m.\u001b[0m\u001b[0mylabel\u001b[0m\u001b[0;34m(\u001b[0m\u001b[0;34m'Retraso promedio en minutos'\u001b[0m\u001b[0;34m)\u001b[0m\u001b[0;34m\u001b[0m\u001b[0;34m\u001b[0m\u001b[0m\n",
            "\u001b[0;31mNameError\u001b[0m: name 'datos' is not defined"
          ]
        }
      ]
    },
    {
      "cell_type": "code",
      "source": [
        "orden = datos['aircraft_type'].value_counts().index\n",
        "sns.countplot(data=datos, x='aircraft_type', order=orden)\n",
        "plt.title('Número de vuelos por tipo de aeronave')\n",
        "plt.xticks(rotation=70)\n",
        "plt.xlabel('Tipo de aeronave')\n",
        "plt.ylabel('Número de vuelos')\n",
        "plt.show()"
      ],
      "metadata": {
        "id": "WQc7GF2cnQvo"
      },
      "execution_count": null,
      "outputs": []
    },
    {
      "cell_type": "code",
      "source": [
        "import numpy as np\n",
        "\n",
        "def calcular_ancho_bin(df, columna):\n",
        "    Q75, Q25 = np.percentile(df[columna], [75, 25])\n",
        "    IQR = Q75 - Q25\n",
        "    ancho_bin = 2 * IQR * np.power(len(df[columna]), -1/3)\n",
        "    return ancho_bin"
      ],
      "metadata": {
        "id": "VZteU_8dnUzM"
      },
      "execution_count": null,
      "outputs": []
    },
    {
      "cell_type": "code",
      "source": [
        "ancho_bin_at = calcular_ancho_bin(datos, 'arrival_time')\n",
        "ancho_bin_dt = calcular_ancho_bin(datos, 'departure_time')\n",
        "sns.histplot(data=datos, x='arrival_time', kde=True, binwidth=ancho_bin_at)\n",
        "sns.histplot(data=datos, x='departure_time', kde=True, binwidth=ancho_bin_dt)"
      ],
      "metadata": {
        "id": "HEFMunKpnZYA"
      },
      "execution_count": null,
      "outputs": []
    },
    {
      "cell_type": "code",
      "source": [
        "media_retraso = datos['delay'].mean()\n",
        "mediana_retraso = datos['delay'].median()\n",
        "\n",
        "fig, axes = plt.subplots(1, 2, figsize=(9, 4))\n",
        "\n",
        "sns.boxplot(data=datos, y='delay', ax=axes[0])\n",
        "axes[0].set_title('Boxplot')\n",
        "\n",
        "axes[0].axhline(y=media_retraso, color='r', linestyle='--', label='Media')\n",
        "axes[0].legend()\n",
        "\n",
        "ancho_bin_delay = calcular_ancho_bin(datos, 'delay')\n",
        "sns.histplot(data=datos, x='delay', ax=axes[1], kde=True, binwidth=ancho_bin_delay)\n",
        "plt.ylabel('Número de vuelos')\n",
        "plt.grid(False)\n",
        "axes[1].set_title('Histograma')\n",
        "\n",
        "axes[1].axvline(x=media_retraso, color='r', linestyle='--', label='Media')\n",
        "axes[1].axvline(x=mediana_retraso, color='y', linestyle='--', label='Mediana')\n",
        "axes[1].legend()\n",
        "\n",
        "plt.tight_layout()\n",
        "plt.show()"
      ],
      "metadata": {
        "id": "j46FDvGdngwk"
      },
      "execution_count": null,
      "outputs": []
    },
    {
      "cell_type": "markdown",
      "source": [
        "# Mamos a la obra: Utilizando el modelo guardado"
      ],
      "metadata": {
        "id": "UQoC69bpadkC"
      }
    },
    {
      "cell_type": "code",
      "source": [
        "nueva muestra = [0.0, 10.8941, ,0.0, 0.0, 0.0, 0.0, 1.0, 1.0, 0.0, 0.0, 0.0, 0.0, 0.0]"
      ],
      "metadata": {
        "id": "a1Zt1cbxakus"
      },
      "execution_count": null,
      "outputs": []
    },
    {
      "cell_type": "code",
      "source": [
        "schengen: 0\n",
        "arrival_time: 10.8941\n",
        "is_holiday: 0\n",
        "is_weekend: 0\n",
        "airline_BZ: 0\n",
        "airline_MM: 0\n",
        "airline_YE: 1\n",
        "aircraft_type_Airbus A320: 1\n",
        "aircraft_type_Airbus A330: 0\n",
        "aircraft_type_Boeing 737: 0\n",
        "aircraft_type_Boeing 777: 0\n",
        "aircraft_type_Boeing 787: 0\n",
        "aircraft_type_Embraer E175: 0\n"
      ],
      "metadata": {
        "id": "ZaaKEI8GbgHl"
      },
      "execution_count": null,
      "outputs": []
    },
    {
      "cell_type": "code",
      "source": [
        "import pickle"
      ],
      "metadata": {
        "id": "72Gx15Nhbut-"
      },
      "execution_count": null,
      "outputs": []
    },
    {
      "cell_type": "code",
      "source": [
        "file_path = './modelos/modelo_produccion.pkl'\n",
        "\n",
        "try:\n",
        "    with open(file_path, 'rb') as file:\n",
        "        model = pickle.load(file)\n",
        "    print(\"¡Modelo cargado con éxito!\")\n",
        "except Exception as e:\n",
        "    print(\"Ocurrió un error al cargar el modelo:\", str(e))\n"
      ],
      "metadata": {
        "id": "qGxXW9acbxA4"
      },
      "execution_count": null,
      "outputs": []
    },
    {
      "cell_type": "code",
      "source": [
        "model.predict([nueva_muestra])[0]"
      ],
      "metadata": {
        "id": "pStJXwLwcS1j"
      },
      "execution_count": null,
      "outputs": []
    },
    {
      "cell_type": "markdown",
      "source": [
        "#Haga lo que hicimos"
      ],
      "metadata": {
        "id": "CQ6nx62cc6lP"
      }
    },
    {
      "cell_type": "code",
      "source": [
        "from yellowbrick.model_selection import FeatureImportances\n",
        "\n",
        "viz = FeatureImportances(model_rf, relative=False)\n",
        "viz.fit(X_train, y_train)\n",
        "viz.show()"
      ],
      "metadata": {
        "id": "CtQW4SUTc-G6"
      },
      "execution_count": null,
      "outputs": []
    },
    {
      "cell_type": "code",
      "source": [
        "importances = model_rf.feature_importances_\n",
        "\n",
        "feature_importances = pd.DataFrame({'Features': X.columns, 'Importances': importances})\n",
        "feature_importances.sort_values('Importances', ascending=False)\n"
      ],
      "metadata": {
        "id": "2BCoASvXdgvg"
      },
      "execution_count": null,
      "outputs": []
    },
    {
      "cell_type": "code",
      "source": [
        "results_df = pd.DataFrame(index=['RMSE', 'MAE', 'R2'])\n",
        "\n",
        "model_selected_features = RandomForestRegressor(random_state=42, max_depth=5)\n",
        "\n",
        "for count in range(10, 16):\n",
        "    selected_features = feature_importances['Features'].values[:count]\n",
        "\n",
        "    X_train_selected = X_train[selected_features]\n",
        "    X_test_selected = X_test[selected_features]\n",
        "\n",
        "    model_selected_features.fit(X_train_selected, y_train)\n",
        "\n",
        "    y_pred = model_selected_features.predict(X_test_selected)\n",
        "\n",
        "    metricas = calcular_metricas_regressao(y_test, y_pred)\n",
        "\n",
        "    results_df[count] = list(metricas.values())\n",
        "\n",
        "results_df"
      ],
      "metadata": {
        "id": "kVKB5StKdn2N"
      },
      "execution_count": null,
      "outputs": []
    },
    {
      "cell_type": "code",
      "source": [
        "selected_features = feature_importances['Features'].values[:13]\n",
        "X_select_features = X[selected_features]\n",
        "X_train, X_test, y_train, y_test = train_test_split(X_select_features, y, random_state=42)\n"
      ],
      "metadata": {
        "id": "e3ZQZMeSdu8v"
      },
      "execution_count": null,
      "outputs": []
    },
    {
      "cell_type": "code",
      "source": [
        "param_grid = {\n",
        "      'max_depth': [5, 10, 15],\n",
        "      'min_samples_leaf': [1, 2, 3],\n",
        "      'min_samples_split': [2, 4, 6],\n",
        "      'n_estimators': [100, 150, 200]\n",
        " }"
      ],
      "metadata": {
        "id": "dXAIq3yrdz9j"
      },
      "execution_count": null,
      "outputs": []
    },
    {
      "cell_type": "code",
      "source": [
        "from sklearn.model_selection import GridSearchCV\n",
        "\n",
        "cv = KFold(n_splits=5, shuffle=True, random_state=42)\n",
        "\n",
        "model_grid = GridSearchCV(RandomForestRegressor(random_state=42), param_grid=param_grid,\n",
        "             scoring='r2', cv=cv)\n",
        "\n",
        "model_grid.fit(X_train, y_train)"
      ],
      "metadata": {
        "id": "qJnpDmKcd4yX"
      },
      "execution_count": null,
      "outputs": []
    },
    {
      "cell_type": "code",
      "source": [
        "y_pred_model_grid = model_grid.predict(X_test)\n",
        "metricas_model_grid = calcular_metricas_regressao(y_test, y_pred_model_grid)\n",
        "metricas_model_grid"
      ],
      "metadata": {
        "id": "BUoN9XZEeBrR"
      },
      "execution_count": null,
      "outputs": []
    },
    {
      "cell_type": "code",
      "source": [
        "import pickle\n",
        "\n",
        "try:\n",
        "  with open('model_producao.pkl', 'wb') as file:\n",
        "    pickle.dump(model_grid.best_estimator_, file)\n",
        "  print('¡Modelo guardado con éxito!!!')\n",
        "except Exception as e:\n",
        "  print('Ocurrió un error al guardar el modelo: ', str(e))\n"
      ],
      "metadata": {
        "id": "uVIUrNeKeDuI"
      },
      "execution_count": null,
      "outputs": []
    }
  ]
}